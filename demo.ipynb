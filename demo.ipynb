{
 "cells": [
  {
   "cell_type": "code",
   "execution_count": 1,
   "metadata": {},
   "outputs": [],
   "source": [
    "%load_ext autoreload\n",
    "%load_ext line_profiler\n",
    "%autoreload 2\n",
    "# %matplotlib ipympl\n",
    "\n",
    "import sys\n",
    "import numpy as np\n",
    "import time\n",
    "\n",
    "sys.path.append('./src')\n",
    "\n",
    "random_seed = np.random.randint(100)\n",
    "random_seed = 0"
   ]
  },
  {
   "cell_type": "code",
   "execution_count": 2,
   "metadata": {},
   "outputs": [
    {
     "name": "stdout",
     "output_type": "stream",
     "text": [
      "Theoretical AW_2^2:  3.0\n"
     ]
    }
   ],
   "source": [
    "from src.utils_solver import Lmatrix2paths,  adapted_wasserstein_squared, list_repr_mu_x, path2adaptedpath, qpath2mu_x, quantization, nested, plot_V, sort_qpath\n",
    "n_sample = 5000\n",
    "T = 3\n",
    "L = np.array([[1, 0, 0], [2, 4, 0], [3, 2, 1]])\n",
    "X,A = Lmatrix2paths(L, n_sample, seed = random_seed, verbose = False)\n",
    "M = np.array([[1, 0, 0], [2, 3, 0], [3, 1, 2]])\n",
    "Y,B = Lmatrix2paths(M, n_sample, seed = random_seed, verbose = False)\n",
    "\n",
    "dist_bench = adapted_wasserstein_squared(A, B)\n",
    "print(\"Theoretical AW_2^2: \", dist_bench)\n",
    "\n",
    "adaptedX = path2adaptedpath(X, delta_n = 0.1)\n",
    "adaptedY = path2adaptedpath(Y, delta_n = 0.1)"
   ]
  },
  {
   "cell_type": "code",
   "execution_count": 3,
   "metadata": {},
   "outputs": [],
   "source": [
    "# Quantization map\n",
    "q2v = np.unique(np.concatenate([adaptedX, adaptedY], axis=0))\n",
    "v2q = {k: v for v, k in enumerate(q2v)}  # Value to Quantization\n",
    "\n",
    "# Quantized paths\n",
    "qX = np.array([[v2q[x] for x in y] for y in adaptedX])\n",
    "qY = np.array([[v2q[x] for x in y] for y in adaptedY])\n",
    "\n",
    "# Sort paths and transpose to (n_sample, T+1)\n",
    "qX = sort_qpath(qX.T)\n",
    "qY = sort_qpath(qY.T)\n",
    "\n",
    "# Get conditional distribution mu_{x_{1:t}} = mu_x[t][(x_1,...,x_t)] = {x_{t+1} : mu_{x_{1:t}}(x_{t+1}), ...}\n",
    "mu_x = qpath2mu_x(qX)\n",
    "nu_y = qpath2mu_x(qY)\n",
    "\n",
    "mu_x_c, mu_x_cn, mu_x_v, mu_x_w, mu_x_cumn = list_repr_mu_x(mu_x, q2v)\n",
    "nu_y_c, nu_y_cn, nu_y_v, nu_y_w, nu_y_cumn = list_repr_mu_x(nu_y, q2v)\n",
    "# All list except weights should be increasing! "
   ]
  },
  {
   "cell_type": "code",
   "execution_count": 4,
   "metadata": {},
   "outputs": [
    {
     "name": "stderr",
     "output_type": "stream",
     "text": [
      "Timestep 2: 100%|██████████| 3298/3298 [01:32<00:00, 35.70it/s]\n",
      "Timestep 1: 100%|██████████| 68/68 [00:00<00:00, 70.55it/s] \n",
      "Timestep 0: 100%|██████████| 1/1 [00:00<00:00, 885.81it/s]\n"
     ]
    },
    {
     "name": "stdout",
     "output_type": "stream",
     "text": [
      "Timer unit: 1e-09 s\n",
      "\n",
      "Total time: 87.6917 s\n",
      "File: /Users/hous/Github/AWD_numerics/src/utils_solver.py\n",
      "Function: nested2 at line 145\n",
      "\n",
      "Line #      Hits         Time  Per Hit   % Time  Line Contents\n",
      "==============================================================\n",
      "   145                                           def nested2(mu_x_cn, mu_x_v, mu_x_w, mu_x_cumn, nu_y_cn, nu_y_v, nu_y_w, nu_y_cumn):\n",
      "   146                                           \n",
      "   147         1       1000.0   1000.0      0.0      T = len(mu_x_cn)\n",
      "   148         1      27000.0  27000.0      0.0      V = [np.zeros([mu_x_cn[t], nu_y_cn[t]]) for t in range(T)]  # V_t(x_{1:t},y_{1:t})\n",
      "   149         4       4000.0   1000.0      0.0      for t in range(T - 1, -1, -1):\n",
      "   150         3   10651000.0    4e+06      0.0          x_bar = tqdm(range(mu_x_cn[t]))\n",
      "   151         3    1122000.0 374000.0      0.0          x_bar.set_description(f\"Timestep {t}\")\n",
      "   152      3373  307358000.0  91123.0      0.4          for cx, vx, wx, ix, jx in zip(\n",
      "   153         3      21000.0   7000.0      0.0              x_bar, mu_x_v[t], mu_x_w[t], mu_x_cumn[t][:-1], mu_x_cumn[t][1:]\n",
      "   154                                                   ):\n",
      "   155   9743757 2552455000.0    262.0      2.9              for cy, vy, wy, iy, jy in zip(\n",
      "   156      3367    2417000.0    717.8      0.0                  range(nu_y_cn[t]),\n",
      "   157      3367     571000.0    169.6      0.0                  nu_y_v[t],\n",
      "   158      3367     715000.0    212.4      0.0                  nu_y_w[t],\n",
      "   159      3367    1679000.0    498.7      0.0                  nu_y_cumn[t][:-1],\n",
      "   160      3367     860000.0    255.4      0.0                  nu_y_cumn[t][1:],\n",
      "   161                                                       ):\n",
      "   162   9737023 1541597000.0    158.3      1.8                  Vtplus = V[t + 1] if t < T - 1 else None\n",
      "   163   9737023        8e+10   8552.1     95.0                  V[t][cx, cy] = solve_ot(cx, vx, wx, ix, jx, cy, vy, wy, iy, jy, Vtplus)\n",
      "   164                                           \n",
      "   165         1          0.0      0.0      0.0      AW_2square = V[0][0, 0]\n",
      "   166         1          0.0      0.0      0.0      return AW_2square"
     ]
    }
   ],
   "source": [
    "from src.utils_solver import nested2, nested2_parallel, solve_ot\n",
    "# start_time = time.perf_counter()\n",
    "# AW_2square = nested2(mu_x_cn, mu_x_v, mu_x_w, mu_x_cumn, nu_y_cn, nu_y_v, nu_y_w, nu_y_cumn)\n",
    "# end_time = time.perf_counter()\n",
    "# print(\"Elapsed time (Adapted OT): {:.4f} seconds\".format(end_time - start_time))\n",
    "# print(\"Numerical AW_2^2: \", AW_2square)\n",
    "%lprun -f nested2 nested2(mu_x_cn, mu_x_v, mu_x_w, mu_x_cumn, nu_y_cn, nu_y_v, nu_y_w, nu_y_cumn)"
   ]
  },
  {
   "cell_type": "code",
   "execution_count": 5,
   "metadata": {},
   "outputs": [
    {
     "name": "stderr",
     "output_type": "stream",
     "text": [
      "100%|██████████| 550/550 [00:09<00:00, 57.69it/s]\n",
      "100%|██████████| 549/549 [00:10<00:00, 54.61it/s] \n",
      "100%|██████████| 549/549 [00:13<00:00, 40.91it/s]\n",
      "100%|██████████| 550/550 [00:14<00:00, 38.82it/s]\n",
      "100%|██████████| 550/550 [00:15<00:00, 35.83it/s]\n",
      "100%|██████████| 550/550 [00:15<00:00, 35.14it/s]\n",
      "100%|██████████| 68/68 [00:00<00:00, 73.57it/s] \n",
      "100%|██████████| 1/1 [00:00<00:00, 2896.62it/s]\n"
     ]
    },
    {
     "name": "stdout",
     "output_type": "stream",
     "text": [
      "Timer unit: 1e-09 s\n",
      "\n",
      "Total time: 21.1729 s\n",
      "File: /Users/hous/Github/AWD_numerics/src/utils_solver.py\n",
      "Function: nested2_parallel at line 179\n",
      "\n",
      "Line #      Hits         Time  Per Hit   % Time  Line Contents\n",
      "==============================================================\n",
      "   179                                           def nested2_parallel(\n",
      "   180                                               mu_x_cn, mu_x_v, mu_x_w, mu_x_cumn, nu_y_cn, nu_y_v, nu_y_w, nu_y_cumn\n",
      "   181                                           ):\n",
      "   182         1          0.0      0.0      0.0      T = len(mu_x_cn)\n",
      "   183         1    6167000.0    6e+06      0.0      V = [np.zeros([mu_x_cn[t], nu_y_cn[t]]) for t in range(T)]  # V_t(x_{1:t},y_{1:t})\n",
      "   184         4      12000.0   3000.0      0.0      for t in range(T - 1, -1, -1):\n",
      "   185         3       1000.0    333.3      0.0          n_processes = 6 if t > 1 else 1  # HERE WE NEED TO CHANGE BACK TO t>1\n",
      "   186         3     563000.0 187666.7      0.0          chunks = np.array_split(range(mu_x_cn[t]), n_processes)\n",
      "   187         3      70000.0  23333.3      0.0          args = []\n",
      "   188        11       5000.0    454.5      0.0          for chunk in chunks:\n",
      "   189         8          0.0      0.0      0.0              x_arg = [\n",
      "   190         8       3000.0    375.0      0.0                  range(len(chunk)),\n",
      "   191         8     357000.0  44625.0      0.0                  [mu_x_v[t][i] for i in chunk],\n",
      "   192         8     315000.0  39375.0      0.0                  [mu_x_w[t][i] for i in chunk],\n",
      "   193         8     807000.0 100875.0      0.0                  [mu_x_cumn[t][:-1][i] for i in chunk],\n",
      "   194         8     719000.0  89875.0      0.0                  [mu_x_cumn[t][1:][i] for i in chunk],\n",
      "   195                                                       ]\n",
      "   196         8      18000.0   2250.0      0.0              y_arg = [\n",
      "   197         8      12000.0   1500.0      0.0                  range(nu_y_cn[t]),\n",
      "   198         8       3000.0    375.0      0.0                  nu_y_v[t],\n",
      "   199         8       1000.0    125.0      0.0                  nu_y_w[t],\n",
      "   200         8       2000.0    250.0      0.0                  nu_y_cumn[t][:-1],\n",
      "   201         8       5000.0    625.0      0.0                  nu_y_cumn[t][1:],\n",
      "   202                                                       ]\n",
      "   203         8       4000.0    500.0      0.0              Vtplus = V[t + 1] if t < T - 1 else None\n",
      "   204         8      12000.0   1500.0      0.0              arg = (x_arg, y_arg, Vtplus)\n",
      "   205         8       4000.0    500.0      0.0              args.append(arg)\n",
      "   206                                           \n",
      "   207                                                   # for arg, chunk in zip(args, chunks):\n",
      "   208                                                   #     res = chunk_process(arg)\n",
      "   209                                                   #     V[t][chunk] = res\n",
      "   210                                           \n",
      "   211         3     953000.0 317666.7      0.0          with concurrent.futures.ProcessPoolExecutor() as executor:\n",
      "   212         3        2e+10    7e+09     99.9              Vts = executor.map(chunk_process, args)\n",
      "   213                                           \n",
      "   214        11    1145000.0 104090.9      0.0          for chunk, Vt in zip(chunks, Vts):\n",
      "   215         8    8368000.0    1e+06      0.0              V[t][chunk] = Vt\n",
      "   216                                           \n",
      "   217         1       1000.0   1000.0      0.0      AW_2square = V[0][0, 0]\n",
      "   218         1          0.0      0.0      0.0      return AW_2square"
     ]
    }
   ],
   "source": [
    "from src.utils_solver import nested2, nested2_parallel, chunk_process\n",
    "# start_time = time.perf_counter()\n",
    "# AW_2square = nested2_parallel(mu_x_cn, mu_x_v, mu_x_w, mu_x_cumn, nu_y_cn, nu_y_v, nu_y_w, nu_y_cumn)\n",
    "# end_time = time.perf_counter()\n",
    "# print(\"Elapsed time (Adapted OT): {:.4f} seconds\".format(end_time - start_time))\n",
    "# print(\"Numerical AW_2^2: \", AW_2square)\n",
    "\n",
    "%lprun -f nested2_parallel nested2_parallel(mu_x_cn, mu_x_v, mu_x_w, mu_x_cumn, nu_y_cn, nu_y_v, nu_y_w, nu_y_cumn)"
   ]
  }
 ],
 "metadata": {
  "kernelspec": {
   "display_name": ".venv",
   "language": "python",
   "name": "python3"
  },
  "language_info": {
   "codemirror_mode": {
    "name": "ipython",
    "version": 3
   },
   "file_extension": ".py",
   "mimetype": "text/x-python",
   "name": "python",
   "nbconvert_exporter": "python",
   "pygments_lexer": "ipython3",
   "version": "3.9.13"
  }
 },
 "nbformat": 4,
 "nbformat_minor": 2
}
