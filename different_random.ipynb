{
 "cells": [
  {
   "cell_type": "code",
   "execution_count": null,
   "metadata": {},
   "outputs": [],
   "source": [
    "%load_ext autoreload\n",
    "%load_ext line_profiler\n",
    "%autoreload 2\n",
    "%matplotlib ipympl\n",
    "\n",
    "\n",
    "import numpy as np\n",
    "from utils import Lmatrix2paths, adapted_empirical_measure, adapted_wasserstein_squared, quantization, nested, plot_V\n",
    "\n",
    "verbose = False\n",
    "\n",
    "random_seed = np.random.randint(100)\n",
    "random_seed"
   ]
  },
  {
   "cell_type": "markdown",
   "metadata": {},
   "source": [
    "# Same randomness"
   ]
  },
  {
   "cell_type": "code",
   "execution_count": 3,
   "metadata": {},
   "outputs": [
    {
     "name": "stdout",
     "output_type": "stream",
     "text": [
      "mu\n",
      "Cholesky:\n",
      "[[1 0 0]\n",
      " [2 4 0]\n",
      " [3 2 1]]\n",
      "Covariance:\n",
      "[[ 1  2  3]\n",
      " [ 2 20 14]\n",
      " [ 3 14 14]]\n",
      "nu\n",
      "Cholesky:\n",
      "[[1 0 0]\n",
      " [2 3 0]\n",
      " [3 1 2]]\n",
      "Covariance:\n",
      "[[ 1  2  3]\n",
      " [ 2 13  9]\n",
      " [ 3  9 14]]\n",
      "Quantization ......\n",
      "Number of distinct values in global quantization:  240\n",
      "Number of condition subpaths of mu_x\n",
      "Time 0: 1\n",
      "Time 1: 60\n",
      "Time 2: 921\n",
      "Number of condition subpaths of nu_y\n",
      "Time 0: 1\n",
      "Time 1: 60\n",
      "Time 2: 884\n",
      "Nested backward induction .......\n"
     ]
    },
    {
     "name": "stderr",
     "output_type": "stream",
     "text": [
      "Timestep 2: 100%|██████████| 921/921 [01:02<00:00, 14.78it/s]\n",
      "Timestep 1: 100%|██████████| 60/60 [00:00<00:00, 123.46it/s]\n",
      "Timestep 0: 100%|██████████| 1/1 [00:00<00:00, 869.47it/s]"
     ]
    },
    {
     "name": "stdout",
     "output_type": "stream",
     "text": [
      "Theoretical AW_2^2:  3.0\n",
      "Numerical AW_2^2:  3.1208666666666667\n"
     ]
    },
    {
     "name": "stderr",
     "output_type": "stream",
     "text": [
      "\n"
     ]
    }
   ],
   "source": [
    "n_sample = 1000\n",
    "normalize = False\n",
    "\n",
    "print(\"mu\")\n",
    "L = np.array([[1, 0, 0], [2, 4, 0], [3, 2, 1]])\n",
    "X,A = Lmatrix2paths(L, n_sample, seed = random_seed)\n",
    "\n",
    "print(\"nu\")\n",
    "M = np.array([[1, 0, 0], [2, 3, 0], [3, 1, 2]])\n",
    "Y,B = Lmatrix2paths(M, n_sample, seed = random_seed)\n",
    "\n",
    "# Grid projection of k-mean projection\n",
    "adaptedX = adapted_empirical_measure(X, delta_n = 0.1)\n",
    "adaptedY = adapted_empirical_measure(Y, delta_n = 0.1)\n",
    "\n",
    "q2v, v2q, mu_x, nu_y, q2v_x, v2q_x, q2v_y, v2q_y = quantization(adaptedX, adaptedY, markovian=False)\n",
    "AW_2square, V = nested(mu_x, nu_y, v2q_x, v2q_y, q2v, markovian=False)\n",
    "dist_bench = adapted_wasserstein_squared(A, B)\n",
    "print(\"Theoretical AW_2^2: \", dist_bench)\n",
    "print(\"Numerical AW_2^2: \", AW_2square)"
   ]
  },
  {
   "cell_type": "markdown",
   "metadata": {},
   "source": [
    "# Different Randomness"
   ]
  },
  {
   "cell_type": "code",
   "execution_count": 4,
   "metadata": {},
   "outputs": [
    {
     "name": "stdout",
     "output_type": "stream",
     "text": [
      "mu\n",
      "Cholesky:\n",
      "[[1 0 0]\n",
      " [2 4 0]\n",
      " [3 2 1]]\n",
      "Covariance:\n",
      "[[ 1  2  3]\n",
      " [ 2 20 14]\n",
      " [ 3 14 14]]\n",
      "nu\n",
      "Cholesky:\n",
      "[[1 0 0]\n",
      " [2 3 0]\n",
      " [3 1 2]]\n",
      "Covariance:\n",
      "[[ 1  2  3]\n",
      " [ 2 13  9]\n",
      " [ 3  9 14]]\n",
      "Quantization ......\n",
      "Number of distinct values in global quantization:  234\n",
      "Number of condition subpaths of mu_x\n",
      "Time 0: 1\n",
      "Time 1: 60\n",
      "Time 2: 921\n",
      "Number of condition subpaths of nu_y\n",
      "Time 0: 1\n",
      "Time 1: 57\n",
      "Time 2: 879\n",
      "Nested backward induction .......\n"
     ]
    },
    {
     "name": "stderr",
     "output_type": "stream",
     "text": [
      "Timestep 2: 100%|██████████| 921/921 [01:00<00:00, 15.22it/s]\n",
      "Timestep 1: 100%|██████████| 60/60 [00:00<00:00, 117.96it/s]\n",
      "Timestep 0: 100%|██████████| 1/1 [00:00<00:00, 799.37it/s]"
     ]
    },
    {
     "name": "stdout",
     "output_type": "stream",
     "text": [
      "Theoretical AW_2^2:  3.0\n",
      "Numerical AW_2^2:  6.053913891755634\n"
     ]
    },
    {
     "name": "stderr",
     "output_type": "stream",
     "text": [
      "\n"
     ]
    }
   ],
   "source": [
    "n_sample = 1000\n",
    "normalize = False\n",
    "\n",
    "print(\"mu\")\n",
    "L = np.array([[1, 0, 0], [2, 4, 0], [3, 2, 1]])\n",
    "X,A = Lmatrix2paths(L, n_sample, seed = random_seed)\n",
    "\n",
    "print(\"nu\")\n",
    "M = np.array([[1, 0, 0], [2, 3, 0], [3, 1, 2]])\n",
    "Y,B = Lmatrix2paths(M, n_sample, seed = random_seed+1)\n",
    "\n",
    "# Grid projection of k-mean projection\n",
    "adaptedX = adapted_empirical_measure(X, delta_n = 0.1)\n",
    "adaptedY = adapted_empirical_measure(Y, delta_n = 0.1)\n",
    "\n",
    "q2v, v2q, mu_x, nu_y, q2v_x, v2q_x, q2v_y, v2q_y = quantization(adaptedX, adaptedY, markovian=False)\n",
    "AW_2square, V = nested(mu_x, nu_y, v2q_x, v2q_y, q2v, markovian=False)\n",
    "dist_bench = adapted_wasserstein_squared(A, B)\n",
    "print(\"Theoretical AW_2^2: \", dist_bench)\n",
    "print(\"Numerical AW_2^2: \", AW_2square)"
   ]
  },
  {
   "cell_type": "code",
   "execution_count": null,
   "metadata": {},
   "outputs": [],
   "source": [
    "for k1, v1 in mu_x[t].items():\n",
    "    for k2, v2 in nu_y[t].items():\n",
    "        # list of probability of conditional distribution mu_x\n",
    "        w1 = list(v1.values())\n",
    "        w1 = np.array(w1) / sum(w1)\n",
    "        # list of probability of conditional distribution nu_y\n",
    "        w2 = list(v2.values())\n",
    "        w2 = np.array(w2) / sum(w2)\n",
    "        # list of quantized values of conditional distribution mu_x (nu_y)\n",
    "        q1 = list(v1.keys())\n",
    "        q2 = list(v2.keys())\n",
    "        # square cost of the values indexed by quantized values: |q2v[q1] - q2v[q2]|^2\n",
    "        cost = square_cost_matrix[np.ix_(q1, q2)]\n",
    "\n",
    "        # At T-1: add V[T] = 0, otherwise add the V[t+1] already computed\n",
    "        if t < T - 1:\n",
    "            q1s = [v2q_x[t + 1][k1 + (q,)] for q in v1.keys()]\n",
    "            q2s = [v2q_y[t + 1][k2 + (q,)] for q in v2.keys()]\n",
    "            cost += V[t + 1][np.ix_(q1s, q2s)]\n",
    "\n",
    "        # solve the OT problem with cost |x_t-y_t|^2 + V_{t+1}(x_{1:t},y_{1:t})\n",
    "        V[t][v2q_x[t][k1], v2q_y[t][k2]] = ot.emd2(w1, w2, cost)"
   ]
  }
 ],
 "metadata": {
  "kernelspec": {
   "display_name": ".venv",
   "language": "python",
   "name": "python3"
  },
  "language_info": {
   "codemirror_mode": {
    "name": "ipython",
    "version": 3
   },
   "file_extension": ".py",
   "mimetype": "text/x-python",
   "name": "python",
   "nbconvert_exporter": "python",
   "pygments_lexer": "ipython3",
   "version": "3.9.13"
  }
 },
 "nbformat": 4,
 "nbformat_minor": 2
}
