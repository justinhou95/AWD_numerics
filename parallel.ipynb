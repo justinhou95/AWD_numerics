{
 "cells": [
  {
   "cell_type": "code",
   "execution_count": 3,
   "metadata": {},
   "outputs": [
    {
     "name": "stdout",
     "output_type": "stream",
     "text": [
      "Sleep 1 second\n",
      "Done Sleeping\n",
      "Sleep 1 second\n",
      "Done Sleeping\n",
      "Finished in 2.01 seconds\n"
     ]
    }
   ],
   "source": [
    "import time\n",
    "start = time.perf_counter()\n",
    "\n",
    "def do_sth():\n",
    "    print('Sleep 1 second')\n",
    "    time.sleep(1)\n",
    "    print('Done Sleeping')\n",
    "\n",
    "do_sth()\n",
    "do_sth()\n",
    "\n",
    "finish = time.perf_counter()\n",
    "print(f'Finished in {round(finish - start,2)} seconds')"
   ]
  },
  {
   "cell_type": "code",
   "execution_count": 5,
   "metadata": {},
   "outputs": [
    {
     "name": "stdout",
     "output_type": "stream",
     "text": [
      "Finished in 0.02 seconds\n"
     ]
    },
    {
     "name": "stderr",
     "output_type": "stream",
     "text": [
      "Traceback (most recent call last):\n",
      "  File \"<string>\", line 1, in <module>\n",
      "  File \"/Library/Frameworks/Python.framework/Versions/3.9/lib/python3.9/multiprocessing/spawn.py\", line 116, in spawn_main\n",
      "Traceback (most recent call last):\n",
      "  File \"<string>\", line 1, in <module>\n",
      "  File \"/Library/Frameworks/Python.framework/Versions/3.9/lib/python3.9/multiprocessing/spawn.py\", line 116, in spawn_main\n",
      "    exitcode = _main(fd, parent_sentinel)\n",
      "  File \"/Library/Frameworks/Python.framework/Versions/3.9/lib/python3.9/multiprocessing/spawn.py\", line 126, in _main\n",
      "    exitcode = _main(fd, parent_sentinel)\n",
      "  File \"/Library/Frameworks/Python.framework/Versions/3.9/lib/python3.9/multiprocessing/spawn.py\", line 126, in _main\n",
      "    self = reduction.pickle.load(from_parent)\n",
      "AttributeError: Can't get attribute 'do_sth' on <module '__main__' (built-in)>\n",
      "    self = reduction.pickle.load(from_parent)\n",
      "AttributeError: Can't get attribute 'do_sth' on <module '__main__' (built-in)>\n"
     ]
    }
   ],
   "source": [
    "import multiprocessing.process\n",
    "import time\n",
    "import multiprocessing\n",
    "start = time.perf_counter()\n",
    "\n",
    "def do_sth():\n",
    "    print('Sleep 1 second')\n",
    "    time.sleep(1)\n",
    "    print('Done Sleeping')\n",
    "\n",
    "p1 = multiprocessing.Process(target = do_sth)\n",
    "p2 = multiprocessing.Process(target = do_sth)\n",
    "\n",
    "p1.start()\n",
    "p2.start()\n",
    "\n",
    "finish = time.perf_counter()\n",
    "print(f'Finished in {round(finish - start,2)} seconds')"
   ]
  }
 ],
 "metadata": {
  "kernelspec": {
   "display_name": ".venv",
   "language": "python",
   "name": "python3"
  },
  "language_info": {
   "codemirror_mode": {
    "name": "ipython",
    "version": 3
   },
   "file_extension": ".py",
   "mimetype": "text/x-python",
   "name": "python",
   "nbconvert_exporter": "python",
   "pygments_lexer": "ipython3",
   "version": "3.9.13"
  }
 },
 "nbformat": 4,
 "nbformat_minor": 2
}
