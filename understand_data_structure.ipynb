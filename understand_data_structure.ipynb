{
 "cells": [
  {
   "cell_type": "code",
   "execution_count": 1,
   "metadata": {},
   "outputs": [
    {
     "data": {
      "text/plain": [
       "19"
      ]
     },
     "execution_count": 1,
     "metadata": {},
     "output_type": "execute_result"
    }
   ],
   "source": [
    "%load_ext autoreload\n",
    "%load_ext line_profiler\n",
    "%autoreload 2\n",
    "%matplotlib ipympl\n",
    "\n",
    "import sys\n",
    "import numpy as np\n",
    "import time\n",
    "from tqdm import tqdm\n",
    "import ot\n",
    "\n",
    "sys.path.append('./src')\n",
    "verbose = False\n",
    "\n",
    "random_seed = np.random.randint(100)\n",
    "random_seed"
   ]
  },
  {
   "cell_type": "code",
   "execution_count": 2,
   "metadata": {},
   "outputs": [],
   "source": [
    "from src.utils_solver import Lmatrix2paths, adapted_empirical_measure, adapted_wasserstein_squared, qpath2mu_x, quantization, nested, plot_V, sort_qpath\n",
    "n_sample = 100\n",
    "T = 3\n",
    "L = np.array([[1, 0, 0], [2, 4, 0], [3, 2, 1]])\n",
    "X,A = Lmatrix2paths(L, n_sample, seed = random_seed, verbose = False)\n",
    "M = np.array([[1, 0, 0], [2, 3, 0], [3, 1, 2]])\n",
    "Y,B = Lmatrix2paths(M, n_sample, seed = random_seed, verbose = False)\n",
    "\n",
    "adaptedX = adapted_empirical_measure(X, delta_n = 0.1)\n",
    "adaptedY = adapted_empirical_measure(Y, delta_n = 0.1)\n",
    "\n",
    "# Quantization map\n",
    "q2v = np.unique(np.concatenate([adaptedX, adaptedY], axis=0))\n",
    "v2q = {k: v for v, k in enumerate(q2v)}  # Value to Quantization\n",
    "\n",
    "# Quantized paths\n",
    "qX = np.array([[v2q[x] for x in y] for y in adaptedX])\n",
    "qY = np.array([[v2q[x] for x in y] for y in adaptedY])\n",
    "\n",
    "# Sort paths and transpose to (n_sample, T+1)\n",
    "qX = sort_qpath(qX.T)\n",
    "qY = sort_qpath(qY.T)\n",
    "\n",
    "mu_x = qpath2mu_x(qX)\n",
    "nu_y = qpath2mu_x(qY)\n"
   ]
  },
  {
   "cell_type": "code",
   "execution_count": 3,
   "metadata": {},
   "outputs": [],
   "source": [
    "# All list except weights should be increasing! \n",
    "\n",
    "mu_x_c = [list(mu_x_t.keys()) for mu_x_t in mu_x] # \n",
    "mu_x_n= [[len(d) for d in mu_x_t.values()] for mu_x_t in mu_x]\n",
    "mu_x_cumn = [np.cumsum([0] + mu_x_n_t) for mu_x_n_t in mu_x_n]\n",
    "\n",
    "mu_x_v= [[list(d.keys()) for d in mu_x_t.values()] for mu_x_t in mu_x]\n",
    "mu_x_w = [[list(d.values()) for d in mu_x_t.values()] for mu_x_t in mu_x]\n",
    "\n",
    "nu_y_c = [list(nu_y_t.keys()) for nu_y_t in nu_y]\n",
    "nu_y_n= [[len(d) for d in nu_y_t.values()] for nu_y_t in nu_y]\n",
    "nu_y_cumn = [np.cumsum([0] + nu_y_n_t) for nu_y_n_t in nu_y_n]\n",
    "\n",
    "nu_y_v = [[list(d.keys()) for d in nu_y_t.values()] for nu_y_t in nu_y]\n",
    "nu_y_w = [[list(d.values()) for d in nu_y_t.values()] for nu_y_t in nu_y]"
   ]
  },
  {
   "cell_type": "code",
   "execution_count": 4,
   "metadata": {},
   "outputs": [
    {
     "name": "stdout",
     "output_type": "stream",
     "text": [
      "(78, 72) (78, 82)\n"
     ]
    },
    {
     "data": {
      "text/plain": [
       "([(78, 72, 26), (78, 72, 56), (78, 72, 96)],\n",
       " [(78, 82, 101), (78, 82, 103), (78, 82, 106), (78, 82, 114)])"
      ]
     },
     "execution_count": 4,
     "metadata": {},
     "output_type": "execute_result"
    }
   ],
   "source": [
    "square_cost_matrix = (q2v[None, :] - q2v[None, :].T) ** 2\n",
    "V = [np.zeros([len(mu_x_c[t]),len(nu_y_c[t])]) for t in range(T)] # V_t(x_{1:t},y_{1:t})\n",
    "t = 1\n",
    "i, j = 10, 20\n",
    "cx = mu_x_c[t][i]\n",
    "cy = nu_y_c[t][j]\n",
    "vx = mu_x_v[t][i]\n",
    "vy = nu_y_v[t][j]\n",
    "\n",
    "cost = square_cost_matrix[np.ix_(vx, vy)]\n",
    "\n",
    "print(cx, cy)\n",
    "\n",
    "cost += V[t+1][mu_x_cumn[t][i]:mu_x_cumn[t][i+1],nu_y_cumn[t][j]:nu_y_cumn[t][j+1]]\n",
    "\n",
    "mu_x_c[t+1][mu_x_cumn[t][i]:mu_x_cumn[t][i+1]], nu_y_c[t+1][nu_y_cumn[t][j]:nu_y_cumn[t][j+1]]"
   ]
  }
 ],
 "metadata": {
  "kernelspec": {
   "display_name": ".venv",
   "language": "python",
   "name": "python3"
  },
  "language_info": {
   "codemirror_mode": {
    "name": "ipython",
    "version": 3
   },
   "file_extension": ".py",
   "mimetype": "text/x-python",
   "name": "python",
   "nbconvert_exporter": "python",
   "pygments_lexer": "ipython3",
   "version": "3.9.13"
  }
 },
 "nbformat": 4,
 "nbformat_minor": 2
}
