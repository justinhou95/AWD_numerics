{
 "cells": [
  {
   "cell_type": "markdown",
   "id": "d4f82c23-bd35-4659-b24b-929a83b2075c",
   "metadata": {},
   "source": [
    "## Utility Functions for Tree Analysis\n",
    "This notebook contains utility functions to compute and analyze values related to tree structures, such as node retrieval and distance matrix computation."
   ]
  },
  {
   "cell_type": "markdown",
   "id": "5f939ea8-0581-401a-9323-c4ee6d0892b7",
   "metadata": {},
   "source": [
    "### Function: get_nodes_at_depth\n",
    "Collect all nodes at a specific depth from the root."
   ]
  },
  {
   "cell_type": "code",
   "execution_count": 1,
   "id": "a6810b05-8fc6-420d-bf3e-4b6548a0d90e",
   "metadata": {},
   "outputs": [],
   "source": [
    "import numpy as np\n",
    "from collections import deque\n",
    "\n",
    "def get_nodes_at_depth(tree_root, depth):\n",
    "    \"\"\"Collect all nodes at a specific depth from the root.\"\"\"\n",
    "    nodes = []\n",
    "\n",
    "    def traverse(node, path, current_depth):\n",
    "        # If we've reached the desired depth, store the path to this node\n",
    "        if current_depth == depth:\n",
    "            nodes.append(path + [node.value])\n",
    "            return\n",
    "\n",
    "        # Recurse to children if we haven't reached the depth yet\n",
    "        for child, _ in node.children:\n",
    "            traverse(child, path + [node.value], current_depth + 1)\n",
    "\n",
    "    traverse(tree_root, [], 0)\n",
    "    return nodes"
   ]
  },
  {
   "cell_type": "markdown",
   "id": "ede97940-2df6-47e9-972c-431210269385",
   "metadata": {},
   "source": [
    "### Function: compute_distance_matrix_at_depth\n",
    "Compute the distance (sum of L1 distance between path) matrix up to a specific depth."
   ]
  },
  {
   "cell_type": "code",
   "execution_count": 2,
   "id": "461e8ec3-6e10-46f1-a442-6d1f6b536a19",
   "metadata": {},
   "outputs": [],
   "source": [
    "def compute_distance_matrix_at_depth(tree_1_root, tree_2_root, depth):\n",
    "    \"\"\"Compute the distance matrix up to a specific depth.\"\"\"\n",
    "    nodes_at_depth_tree1 = get_nodes_at_depth(tree_1_root, depth)\n",
    "    nodes_at_depth_tree2 = get_nodes_at_depth(tree_2_root, depth)\n",
    "\n",
    "    num_nodes_tree1 = len(nodes_at_depth_tree1)\n",
    "    num_nodes_tree2 = len(nodes_at_depth_tree2)\n",
    "    distance_matrix = np.zeros((num_nodes_tree1, num_nodes_tree2))\n",
    "\n",
    "    for i, path1 in enumerate(nodes_at_depth_tree1):\n",
    "        for j, path2 in enumerate(nodes_at_depth_tree2):\n",
    "            max_len = max(len(path1), len(path2))\n",
    "            padded_path1 = path1 + [0] * (max_len - len(path1))\n",
    "            padded_path2 = path2 + [0] * (max_len - len(path2))\n",
    "            distance = sum(abs(a - b) for a, b in zip(padded_path1, padded_path2))\n",
    "            distance_matrix[i, j] = distance\n",
    "\n",
    "    return distance_matrix"
   ]
  },
  {
   "cell_type": "markdown",
   "id": "9f2fc661-17e2-41d9-a8b8-7f330d40edcf",
   "metadata": {},
   "source": [
    "### Function: get_paths_to_leaves\n",
    "Generate all paths from the root to each leaf node up to a specified depth."
   ]
  },
  {
   "cell_type": "code",
   "execution_count": 3,
   "id": "3aeef91a-bf0b-45d7-a0f5-f62e05a39a8c",
   "metadata": {},
   "outputs": [],
   "source": [
    "def get_paths_to_leaves(tree_root, max_depth):\n",
    "    \"\"\"Generate all paths from the root to each leaf node up a specified depth.\"\"\"\n",
    "    paths = []\n",
    "\n",
    "    def traverse(node, path, depth):\n",
    "        if depth == max_depth or not node.children:\n",
    "            paths.append(path + [node.value])\n",
    "            return\n",
    "\n",
    "        for child, _ in node.children:\n",
    "            traverse(child, path + [node.value], depth + 1)\n",
    "\n",
    "    traverse(tree_root, [], 0)\n",
    "    return paths"
   ]
  },
  {
   "cell_type": "markdown",
   "id": "234893e7-9732-4bd4-8271-aee8da0fd761",
   "metadata": {},
   "source": [
    "### Function: get_node_from_path\n",
    "Retrieve the node at the end of a given path from the root."
   ]
  },
  {
   "cell_type": "code",
   "execution_count": 4,
   "id": "4e6d3660-8ac1-4bc0-86ab-cf9903e7b540",
   "metadata": {},
   "outputs": [],
   "source": [
    "def get_node_from_path(tree_root, path):\n",
    "    \"\"\"Given a root node and a path (list of values), return the node at the end of the path.\"\"\"\n",
    "    current_node = tree_root\n",
    "    for value in path[1:]:  # Start from the second element, as the first is the root itself\n",
    "        # Find the child with the given value\n",
    "        current_node = next(child for child, _ in current_node.children if child.value == value)\n",
    "    return current_node"
   ]
  },
  {
   "cell_type": "markdown",
   "id": "31dc581b-5b62-4a53-8a6a-407a012d660e",
   "metadata": {},
   "source": [
    "### Function: find_node_by_path\n",
    "Traverse the tree following a given path and return the final node."
   ]
  },
  {
   "cell_type": "code",
   "execution_count": 5,
   "id": "5d1d4a45-57dc-4a53-a52f-8bda26ddcbbb",
   "metadata": {},
   "outputs": [],
   "source": [
    "def find_node_by_path(node, path):\n",
    "    \"\"\"Traverses the tree following the given path and returns the final node.\"\"\"\n",
    "    current_node = node\n",
    "    for value in path[1:]:  # The first value is the root\n",
    "        # Find all children with the matching value\n",
    "        matching_children = [child for child, _ in current_node.children if child.value == value]\n",
    "        \n",
    "        if not matching_children:\n",
    "            print(f\"Invalid path: No child with value {value} under node with value {current_node.value}. Path so far: {path}\")\n",
    "            return None  # Path is invalid\n",
    "        \n",
    "        if len(matching_children) > 1:\n",
    "            print(f\"Warning: Multiple children with value {value} found under node with value {current_node.value}. Path: {path}\")\n",
    "        \n",
    "        # Select the first matching child\n",
    "        current_node = matching_children[0]\n",
    "    \n",
    "    return current_node"
   ]
  },
  {
   "cell_type": "markdown",
   "id": "d6952f0f-ea12-4d85-84ec-78f55e9d15a2",
   "metadata": {},
   "source": [
    "### Function: compute_marginal_probabilities_for_subset\n",
    "Compute marginal probabilities for the direct successors of node1 and node2."
   ]
  },
  {
   "cell_type": "code",
   "execution_count": 6,
   "id": "8c13bbf8-2b5e-4ce3-a16e-ea05724e1c62",
   "metadata": {},
   "outputs": [],
   "source": [
    "def compute_marginal_probabilities_for_subset(node1_path, node2_path, tree_1_root, tree_2_root):\n",
    "    \"\"\"Compute marginal probabilities for the direct successors of node1 and node2.\"\"\"\n",
    "    # Get the actual node objects at the end of each path\n",
    "    node1 = get_node_from_path(tree_1_root, node1_path)\n",
    "    node2 = get_node_from_path(tree_2_root, node2_path)\n",
    "\n",
    "    # Get direct successors and their transition probabilities\n",
    "    successors_node1 = [(node1_path + [child.value], prob) for child, prob in node1.children]\n",
    "    successors_node2 = [(node2_path + [child.value], prob) for child, prob in node2.children]\n",
    "\n",
    "    # Compute marginal probabilities for each set of successors\n",
    "    pi_ratios = [prob for _, prob in successors_node1]\n",
    "    pi_tilde_ratios = [prob for _, prob in successors_node2]\n",
    "\n",
    "    return pi_ratios, pi_tilde_ratios"
   ]
  },
  {
   "cell_type": "markdown",
   "id": "0b0b8f2f-2ccb-40b4-aec2-eca14dfd588d",
   "metadata": {},
   "source": [
    "### Solver for Optimal Probability Matrix\n",
    "This function computes the optimal probability matrix that minimizes the cost defined by a given subset of the distance matrix. It uses `scipy.optimize.linprog` to solve the associated linear program, ensuring the constraints on rows and columns (derived from `pi_ratios` and `pi_tilde_ratios`) are satisfied."
   ]
  },
  {
   "cell_type": "code",
   "execution_count": 7,
   "id": "b5ef81c6-8a1b-45ae-90da-7dc8cd4f1047",
   "metadata": {},
   "outputs": [],
   "source": [
    "from scipy.optimize import linprog\n",
    "\n",
    "def solver(distance_matrix_subset, pi_ratios, pi_tilde_ratios):\n",
    "    \"\"\"\n",
    "    Solve for the optimal probability matrix that minimizes the cost when\n",
    "    multiplied with the distance_matrix_subset.\n",
    "    \"\"\"\n",
    "    num_rows, num_cols = distance_matrix_subset.shape\n",
    "\n",
    "    # Flatten the distance matrix to use it as the cost vector in linprog\n",
    "    c = distance_matrix_subset.flatten()\n",
    "\n",
    "    # Constraints\n",
    "    A_eq = []\n",
    "    b_eq = []\n",
    "\n",
    "    # Row constraints: each row should sum to the corresponding value in pi_ratios\n",
    "    for i in range(num_rows):\n",
    "        row_constraint = [0] * (num_rows * num_cols)\n",
    "        for j in range(num_cols):\n",
    "            row_constraint[i * num_cols + j] = 1\n",
    "        A_eq.append(row_constraint)\n",
    "        b_eq.append(pi_ratios[i])\n",
    "\n",
    "    # Column constraints: each column should sum to the corresponding value in pi_tilde_ratios\n",
    "    for j in range(num_cols):\n",
    "        col_constraint = [0] * (num_rows * num_cols)\n",
    "        for i in range(num_rows):\n",
    "            col_constraint[i * num_cols + j] = 1\n",
    "        A_eq.append(col_constraint)\n",
    "        b_eq.append(pi_tilde_ratios[j])\n",
    "\n",
    "    # Bounds: each entry in the probability matrix should be non-negative\n",
    "    bounds = [(0, None)] * (num_rows * num_cols)\n",
    "\n",
    "    # Solve the linear program\n",
    "    result = linprog(c, A_eq=A_eq, b_eq=b_eq, bounds=bounds, method='highs')\n",
    "    \n",
    "    # Reshape the result back into a matrix of shape (num_rows, num_cols)\n",
    "    probability_matrix = result.x.reshape(num_rows, num_cols)\n",
    "    \n",
    "    return probability_matrix"
   ]
  }
 ],
 "metadata": {
  "kernelspec": {
   "display_name": "Python 3 (ipykernel)",
   "language": "python",
   "name": "python3"
  },
  "language_info": {
   "codemirror_mode": {
    "name": "ipython",
    "version": 3
   },
   "file_extension": ".py",
   "mimetype": "text/x-python",
   "name": "python",
   "nbconvert_exporter": "python",
   "pygments_lexer": "ipython3",
   "version": "3.11.5"
  }
 },
 "nbformat": 4,
 "nbformat_minor": 5
}
