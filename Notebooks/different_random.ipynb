{
 "cells": [
  {
   "cell_type": "markdown",
   "metadata": {},
   "source": [
    "# Discrepency between different randomness for Adapted Optimal Transport Computations\n",
    "\n",
    "This notebook demonstrates two approaches to computing adapted/nested optimal transport distances between two measures. It includes:\n",
    "- Running the computations with the same randomness and then with different randomness (by changing the seed).\n",
    "- Comparing the computed values and timing the computation.\n"
   ]
  },
  {
   "cell_type": "code",
   "execution_count": 1,
   "metadata": {},
   "outputs": [
    {
     "name": "stdout",
     "output_type": "stream",
     "text": [
      "Random seed for this run: 44\n"
     ]
    }
   ],
   "source": [
    "# %% [code]\n",
    "# Notebook setup: load extensions and import required libraries\n",
    "\n",
    "%load_ext autoreload\n",
    "%load_ext line_profiler\n",
    "%autoreload 2\n",
    "%matplotlib ipympl\n",
    "\n",
    "import sys \n",
    "from os import path as pt\n",
    "import numpy as np\n",
    "import matplotlib.pyplot as plt\n",
    "import ot\n",
    "from tqdm import tqdm\n",
    "import random\n",
    "import time\n",
    "\n",
    "# Set the notebook and source paths\n",
    "import os\n",
    "notebooks_path = os.path.abspath(os.getcwd()) \n",
    "src_path = os.path.abspath(os.path.join(notebooks_path, \"../src\"))\n",
    "if src_path not in sys.path:\n",
    "    sys.path.insert(0, src_path)\n",
    "\n",
    "# Import custom modules from src\n",
    "from utils_solver import Lmatrix2paths, adapted_empirical_measure, adapted_wasserstein_squared, quantization, nested, plot_V\n",
    "\n",
    "from adapted_empirical_measure.AEM_grid import *\n",
    "from trees.Build_trees_from_paths import *\n",
    "from trees.TreeAnalysis import *\n",
    "from awd_trees.Nested_Dist_Algo import *\n",
    "\n",
    "# Set random seeds for reproducibility\n",
    "np.random.seed(0)\n",
    "random.seed(0)\n",
    "verbose = False\n",
    "\n",
    "# Create a random seed variable for additional randomness in the notebook\n",
    "random_seed = np.random.randint(100)\n",
    "print(\"Random seed for this run:\", random_seed)"
   ]
  },
  {
   "cell_type": "markdown",
   "metadata": {},
   "source": [
    "# Same randomness"
   ]
  },
  {
   "cell_type": "code",
   "execution_count": 2,
   "metadata": {},
   "outputs": [
    {
     "name": "stdout",
     "output_type": "stream",
     "text": [
      "mu\n",
      "Cholesky:\n",
      "[[1 0 0]\n",
      " [2 4 0]\n",
      " [3 2 1]]\n",
      "Covariance:\n",
      "[[ 1  2  3]\n",
      " [ 2 20 14]\n",
      " [ 3 14 14]]\n",
      "nu\n",
      "Cholesky:\n",
      "[[1 0 0]\n",
      " [2 3 0]\n",
      " [3 1 2]]\n",
      "Covariance:\n",
      "[[ 1  2  3]\n",
      " [ 2 13  9]\n",
      " [ 3  9 14]]\n"
     ]
    }
   ],
   "source": [
    "# For measure \"mu\"\n",
    "print(\"mu\")\n",
    "L = np.array([[1, 0, 0],\n",
    "              [2, 4, 0],\n",
    "              [3, 2, 1]])\n",
    "n_sample = 1000\n",
    "normalize = False  # Not used explicitly here\n",
    "X, A = Lmatrix2paths(L, n_sample, seed=random_seed)\n",
    "\n",
    "# For measure \"nu\"\n",
    "print(\"nu\")\n",
    "M = np.array([[1, 0, 0],\n",
    "              [2, 3, 0],\n",
    "              [3, 1, 2]])\n",
    "Y, B = Lmatrix2paths(M, n_sample, seed=random_seed)"
   ]
  },
  {
   "cell_type": "markdown",
   "metadata": {},
   "source": [
    "## Computation with my code"
   ]
  },
  {
   "cell_type": "code",
   "execution_count": 3,
   "metadata": {},
   "outputs": [
    {
     "name": "stdout",
     "output_type": "stream",
     "text": [
      "Numerical AW_2^2 (Adapted OT): 3.1500599999999985\n",
      "Elapsed time (Adapted OT): 173.9053 seconds\n"
     ]
    }
   ],
   "source": [
    "# Compute uniform adapted empirical grid measures with weights\n",
    "adapted_X, adapted_weights_X = uniform_empirical_grid_measure(X.T, delta_n=0.1, use_weights=True)\n",
    "adapted_Y, adapted_weights_Y = uniform_empirical_grid_measure(Y.T, delta_n=0.1, use_weights=True)\n",
    "\n",
    "# Build trees from the adapted paths\n",
    "adapted_tree_1 = build_tree_from_paths(adapted_X, adapted_weights_X)\n",
    "adapted_tree_2 = build_tree_from_paths(adapted_Y, adapted_weights_Y)\n",
    "\n",
    "# Compute the nested (adapted optimal transport) distance and measure execution time\n",
    "max_depth = get_depth(adapted_tree_1)\n",
    "start_time = time.time()\n",
    "distance_pot = compute_nested_distance(\n",
    "    adapted_tree_1,\n",
    "    adapted_tree_2,\n",
    "    max_depth,\n",
    "    method=\"solver_lp_pot\",\n",
    "    return_matrix=False,\n",
    "    lambda_reg=0,\n",
    "    power=2,\n",
    ")\n",
    "elapsed_time_pot = time.time() - start_time\n",
    "\n",
    "print(\"Numerical AW_2^2 (Adapted OT):\", distance_pot)\n",
    "print(\"Elapsed time (Adapted OT): {:.4f} seconds\".format(elapsed_time_pot))"
   ]
  },
  {
   "cell_type": "markdown",
   "metadata": {},
   "source": [
    "## With the other code"
   ]
  },
  {
   "cell_type": "code",
   "execution_count": 4,
   "metadata": {},
   "outputs": [
    {
     "name": "stdout",
     "output_type": "stream",
     "text": [
      "Quantization ......\n",
      "Number of distinct values in global quantization:  229\n",
      "Number of condition subpaths of mu_x\n",
      "Time 0: 1\n",
      "Time 1: 59\n",
      "Time 2: 915\n",
      "Number of condition subpaths of nu_y\n",
      "Time 0: 1\n",
      "Time 1: 59\n",
      "Time 2: 896\n",
      "Nested backward induction .......\n"
     ]
    },
    {
     "name": "stderr",
     "output_type": "stream",
     "text": [
      "Timestep 2: 100%|██████████| 915/915 [4:28:04<00:00, 17.58s/it]     \n",
      "Timestep 1: 100%|██████████| 59/59 [00:01<00:00, 30.58it/s]\n",
      "Timestep 0: 100%|██████████| 1/1 [00:00<00:00, 35.48it/s]\n"
     ]
    },
    {
     "name": "stdout",
     "output_type": "stream",
     "text": [
      "Theoretical AW_2^2:  3.0\n",
      "Numerical AW_2^2:  3.15006\n",
      "Elapsed time (Adapted OT): 16086.1546 seconds\n"
     ]
    }
   ],
   "source": [
    "# Grid projection of k-mean projection\n",
    "adaptedX = adapted_empirical_measure(X, delta_n = 0.1)\n",
    "adaptedY = adapted_empirical_measure(Y, delta_n = 0.1)\n",
    "\n",
    "q2v, v2q, mu_x, nu_y, q2v_x, v2q_x, q2v_y, v2q_y = quantization(adaptedX, adaptedY, markovian=False)\n",
    "\n",
    "start_time = time.time()\n",
    "AW_2square, V = nested(mu_x, nu_y, v2q_x, v2q_y, q2v, markovian=False)\n",
    "elapsed_time_pot = time.time() - start_time\n",
    "\n",
    "dist_bench = adapted_wasserstein_squared(A, B)\n",
    "print(\"Theoretical AW_2^2: \", dist_bench)\n",
    "print(\"Numerical AW_2^2: \", AW_2square)\n",
    "print(\"Elapsed time (Adapted OT): {:.4f} seconds\".format(elapsed_time_pot))"
   ]
  },
  {
   "cell_type": "markdown",
   "metadata": {},
   "source": [
    "# Repeat the computations with a different randomness: change seed for nu generation"
   ]
  },
  {
   "cell_type": "code",
   "execution_count": 5,
   "metadata": {},
   "outputs": [
    {
     "name": "stdout",
     "output_type": "stream",
     "text": [
      "mu\n",
      "Cholesky:\n",
      "[[1 0 0]\n",
      " [2 4 0]\n",
      " [3 2 1]]\n",
      "Covariance:\n",
      "[[ 1  2  3]\n",
      " [ 2 20 14]\n",
      " [ 3 14 14]]\n",
      "nu\n",
      "Cholesky:\n",
      "[[1 0 0]\n",
      " [2 3 0]\n",
      " [3 1 2]]\n",
      "Covariance:\n",
      "[[ 1  2  3]\n",
      " [ 2 13  9]\n",
      " [ 3  9 14]]\n"
     ]
    }
   ],
   "source": [
    "n_sample = 4000\n",
    "\n",
    "print(\"mu\")\n",
    "# For measure mu we keep the same seed as before\n",
    "L = np.array([[1, 0, 0],\n",
    "              [2, 4, 0],\n",
    "              [3, 2, 1]])\n",
    "X, A = Lmatrix2paths(L, n_sample, seed=random_seed)\n",
    "\n",
    "print(\"nu\")\n",
    "# For measure nu, use a different seed by adding 1\n",
    "M = np.array([[1, 0, 0],\n",
    "              [2, 3, 0],\n",
    "              [3, 1, 2]])\n",
    "Y, B = Lmatrix2paths(M, n_sample, seed=random_seed+1)"
   ]
  },
  {
   "cell_type": "code",
   "execution_count": 6,
   "metadata": {},
   "outputs": [
    {
     "ename": "KeyboardInterrupt",
     "evalue": "",
     "output_type": "error",
     "traceback": [
      "\u001b[0;31m---------------------------------------------------------------------------\u001b[0m",
      "\u001b[0;31mKeyboardInterrupt\u001b[0m                         Traceback (most recent call last)",
      "Cell \u001b[0;32mIn [6], line 10\u001b[0m\n\u001b[1;32m      8\u001b[0m max_depth \u001b[38;5;241m=\u001b[39m get_depth(adapted_tree_1)\n\u001b[1;32m      9\u001b[0m start_time \u001b[38;5;241m=\u001b[39m time\u001b[38;5;241m.\u001b[39mtime()\n\u001b[0;32m---> 10\u001b[0m distance_pot \u001b[38;5;241m=\u001b[39m compute_nested_distance(\n\u001b[1;32m     11\u001b[0m     adapted_tree_1,\n\u001b[1;32m     12\u001b[0m     adapted_tree_2,\n\u001b[1;32m     13\u001b[0m     max_depth,\n\u001b[1;32m     14\u001b[0m     method\u001b[38;5;241m=\u001b[39m\u001b[38;5;124m\"\u001b[39m\u001b[38;5;124msolver_lp_pot\u001b[39m\u001b[38;5;124m\"\u001b[39m,\n\u001b[1;32m     15\u001b[0m     return_matrix\u001b[38;5;241m=\u001b[39m\u001b[38;5;28;01mFalse\u001b[39;00m,\n\u001b[1;32m     16\u001b[0m     lambda_reg\u001b[38;5;241m=\u001b[39m\u001b[38;5;241m0\u001b[39m,\n\u001b[1;32m     17\u001b[0m     power\u001b[38;5;241m=\u001b[39m\u001b[38;5;241m2\u001b[39m,\n\u001b[1;32m     18\u001b[0m )\n\u001b[1;32m     19\u001b[0m elapsed_time_pot \u001b[38;5;241m=\u001b[39m time\u001b[38;5;241m.\u001b[39mtime() \u001b[38;5;241m-\u001b[39m start_time\n\u001b[1;32m     21\u001b[0m \u001b[38;5;28mprint\u001b[39m(\u001b[38;5;124m\"\u001b[39m\u001b[38;5;124mNumerical AW_2^2 (Adapted OT):\u001b[39m\u001b[38;5;124m\"\u001b[39m, distance_pot)\n",
      "File \u001b[0;32m~/Documents/Master_Thesis/Code/AWD_numerics/src/awd_trees/Nested_Dist_Algo.py:205\u001b[0m, in \u001b[0;36mcompute_nested_distance\u001b[0;34m(tree1_root, tree2_root, max_depth, return_matrix, method, lambda_reg, power)\u001b[0m\n\u001b[1;32m    181\u001b[0m \u001b[38;5;28;01mdef\u001b[39;00m \u001b[38;5;21mcompute_nested_distance\u001b[39m(\n\u001b[1;32m    182\u001b[0m     tree1_root,\n\u001b[1;32m    183\u001b[0m     tree2_root,\n\u001b[0;32m   (...)\u001b[0m\n\u001b[1;32m    188\u001b[0m     power\u001b[38;5;241m=\u001b[39m\u001b[38;5;241m1\u001b[39m,\n\u001b[1;32m    189\u001b[0m ):\n\u001b[1;32m    190\u001b[0m     \u001b[38;5;124;03m\"\"\"\u001b[39;00m\n\u001b[1;32m    191\u001b[0m \u001b[38;5;124;03m    Computes the nested Wasserstein distance between two trees.\u001b[39;00m\n\u001b[1;32m    192\u001b[0m \n\u001b[0;32m   (...)\u001b[0m\n\u001b[1;32m    203\u001b[0m \u001b[38;5;124;03m    - np.ndarray (optional): Final probability matrix if return_matrix is True.\u001b[39;00m\n\u001b[1;32m    204\u001b[0m \u001b[38;5;124;03m    \"\"\"\u001b[39;00m\n\u001b[0;32m--> 205\u001b[0m     distance, probability_matrices \u001b[38;5;241m=\u001b[39m \u001b[43mnested_optimal_transport_loop\u001b[49m\u001b[43m(\u001b[49m\n\u001b[1;32m    206\u001b[0m \u001b[43m        \u001b[49m\u001b[43mtree1_root\u001b[49m\u001b[43m,\u001b[49m\u001b[43m \u001b[49m\u001b[43mtree2_root\u001b[49m\u001b[43m,\u001b[49m\u001b[43m \u001b[49m\u001b[43mmax_depth\u001b[49m\u001b[43m,\u001b[49m\u001b[43m \u001b[49m\u001b[43mmethod\u001b[49m\u001b[43m,\u001b[49m\u001b[43m \u001b[49m\u001b[43mlambda_reg\u001b[49m\u001b[43m,\u001b[49m\u001b[43m \u001b[49m\u001b[43mpower\u001b[49m\n\u001b[1;32m    207\u001b[0m \u001b[43m    \u001b[49m\u001b[43m)\u001b[49m\n\u001b[1;32m    209\u001b[0m     \u001b[38;5;28;01mif\u001b[39;00m return_matrix:\n\u001b[1;32m    210\u001b[0m         final_prob_matrix \u001b[38;5;241m=\u001b[39m compute_final_probability_matrix(\n\u001b[1;32m    211\u001b[0m             probability_matrices, tree1_root, tree2_root, max_depth\n\u001b[1;32m    212\u001b[0m         )\n",
      "File \u001b[0;32m~/Documents/Master_Thesis/Code/AWD_numerics/src/awd_trees/Nested_Dist_Algo.py:81\u001b[0m, in \u001b[0;36mnested_optimal_transport_loop\u001b[0;34m(tree1_root, tree2_root, max_depth, method, lambda_reg, power)\u001b[0m\n\u001b[1;32m     76\u001b[0m start_col, end_col \u001b[38;5;241m=\u001b[39m \u001b[38;5;28msum\u001b[39m(children_count_tree2[:j]), \u001b[38;5;28msum\u001b[39m(\n\u001b[1;32m     77\u001b[0m     children_count_tree2[: j \u001b[38;5;241m+\u001b[39m \u001b[38;5;241m1\u001b[39m]\n\u001b[1;32m     78\u001b[0m )\n\u001b[1;32m     79\u001b[0m sub_matrix \u001b[38;5;241m=\u001b[39m full_distance_matrix[start_row:end_row, start_col:end_col]\n\u001b[0;32m---> 81\u001b[0m pi_ratios, pi_tilde_ratios \u001b[38;5;241m=\u001b[39m \u001b[43mcompute_marginal_probabilities_for_subset\u001b[49m\u001b[43m(\u001b[49m\n\u001b[1;32m     82\u001b[0m \u001b[43m    \u001b[49m\u001b[43mpath1\u001b[49m\u001b[43m,\u001b[49m\u001b[43m \u001b[49m\u001b[43mpath2\u001b[49m\u001b[43m,\u001b[49m\u001b[43m \u001b[49m\u001b[43mtree1_root\u001b[49m\u001b[43m,\u001b[49m\u001b[43m \u001b[49m\u001b[43mtree2_root\u001b[49m\n\u001b[1;32m     83\u001b[0m \u001b[43m\u001b[49m\u001b[43m)\u001b[49m\n\u001b[1;32m     85\u001b[0m \u001b[38;5;28;01mif\u001b[39;00m method \u001b[38;5;241m==\u001b[39m \u001b[38;5;124m\"\u001b[39m\u001b[38;5;124mSinkhorn\u001b[39m\u001b[38;5;124m\"\u001b[39m:\n\u001b[1;32m     86\u001b[0m     probability_matrix \u001b[38;5;241m=\u001b[39m Sinkhorn_iteration(\n\u001b[1;32m     87\u001b[0m         sub_matrix,\n\u001b[1;32m     88\u001b[0m         pi_ratios,\n\u001b[0;32m   (...)\u001b[0m\n\u001b[1;32m     91\u001b[0m         lambda_reg\u001b[38;5;241m=\u001b[39mlambda_reg,\n\u001b[1;32m     92\u001b[0m     )\n",
      "File \u001b[0;32m~/Documents/Master_Thesis/Code/AWD_numerics/src/trees/Tree_AWD_utilities.py:111\u001b[0m, in \u001b[0;36mcompute_marginal_probabilities_for_subset\u001b[0;34m(node1_path, node2_path, tree_1_root, tree_2_root)\u001b[0m\n\u001b[1;32m    109\u001b[0m \u001b[38;5;124;03m\"\"\"Compute marginal probabilities for the direct successors of node1 and node2.\"\"\"\u001b[39;00m\n\u001b[1;32m    110\u001b[0m node1 \u001b[38;5;241m=\u001b[39m get_node_from_path(tree_1_root, node1_path)\n\u001b[0;32m--> 111\u001b[0m node2 \u001b[38;5;241m=\u001b[39m \u001b[43mget_node_from_path\u001b[49m\u001b[43m(\u001b[49m\u001b[43mtree_2_root\u001b[49m\u001b[43m,\u001b[49m\u001b[43m \u001b[49m\u001b[43mnode2_path\u001b[49m\u001b[43m)\u001b[49m\n\u001b[1;32m    113\u001b[0m successors_node1 \u001b[38;5;241m=\u001b[39m [\n\u001b[1;32m    114\u001b[0m     (node1_path \u001b[38;5;241m+\u001b[39m [child\u001b[38;5;241m.\u001b[39mvalue], prob) \u001b[38;5;28;01mfor\u001b[39;00m child, prob \u001b[38;5;129;01min\u001b[39;00m node1\u001b[38;5;241m.\u001b[39mchildren\n\u001b[1;32m    115\u001b[0m ]\n\u001b[1;32m    116\u001b[0m successors_node2 \u001b[38;5;241m=\u001b[39m [\n\u001b[1;32m    117\u001b[0m     (node2_path \u001b[38;5;241m+\u001b[39m [child\u001b[38;5;241m.\u001b[39mvalue], prob) \u001b[38;5;28;01mfor\u001b[39;00m child, prob \u001b[38;5;129;01min\u001b[39;00m node2\u001b[38;5;241m.\u001b[39mchildren\n\u001b[1;32m    118\u001b[0m ]\n",
      "File \u001b[0;32m~/Documents/Master_Thesis/Code/AWD_numerics/src/trees/Tree_AWD_utilities.py:80\u001b[0m, in \u001b[0;36mget_node_from_path\u001b[0;34m(tree_root, path)\u001b[0m\n\u001b[1;32m     78\u001b[0m current_node \u001b[38;5;241m=\u001b[39m tree_root\n\u001b[1;32m     79\u001b[0m \u001b[38;5;28;01mfor\u001b[39;00m value \u001b[38;5;129;01min\u001b[39;00m path[\u001b[38;5;241m1\u001b[39m:]:\n\u001b[0;32m---> 80\u001b[0m     current_node \u001b[38;5;241m=\u001b[39m \u001b[38;5;28;43mnext\u001b[39;49m\u001b[43m(\u001b[49m\n\u001b[1;32m     81\u001b[0m \u001b[43m        \u001b[49m\u001b[43mchild\u001b[49m\u001b[43m \u001b[49m\u001b[38;5;28;43;01mfor\u001b[39;49;00m\u001b[43m \u001b[49m\u001b[43mchild\u001b[49m\u001b[43m,\u001b[49m\u001b[43m \u001b[49m\u001b[43m_\u001b[49m\u001b[43m \u001b[49m\u001b[38;5;129;43;01min\u001b[39;49;00m\u001b[43m \u001b[49m\u001b[43mcurrent_node\u001b[49m\u001b[38;5;241;43m.\u001b[39;49m\u001b[43mchildren\u001b[49m\u001b[43m \u001b[49m\u001b[38;5;28;43;01mif\u001b[39;49;00m\u001b[43m \u001b[49m\u001b[43mchild\u001b[49m\u001b[38;5;241;43m.\u001b[39;49m\u001b[43mvalue\u001b[49m\u001b[43m \u001b[49m\u001b[38;5;241;43m==\u001b[39;49m\u001b[43m \u001b[49m\u001b[43mvalue\u001b[49m\n\u001b[1;32m     82\u001b[0m \u001b[43m    \u001b[49m\u001b[43m)\u001b[49m\n\u001b[1;32m     83\u001b[0m \u001b[38;5;28;01mreturn\u001b[39;00m current_node\n",
      "File \u001b[0;32m~/Documents/Master_Thesis/Code/AWD_numerics/src/trees/Tree_AWD_utilities.py:80\u001b[0m, in \u001b[0;36m<genexpr>\u001b[0;34m(.0)\u001b[0m\n\u001b[1;32m     78\u001b[0m current_node \u001b[38;5;241m=\u001b[39m tree_root\n\u001b[1;32m     79\u001b[0m \u001b[38;5;28;01mfor\u001b[39;00m value \u001b[38;5;129;01min\u001b[39;00m path[\u001b[38;5;241m1\u001b[39m:]:\n\u001b[0;32m---> 80\u001b[0m     current_node \u001b[38;5;241m=\u001b[39m \u001b[38;5;28mnext\u001b[39m(\n\u001b[1;32m     81\u001b[0m         child \u001b[38;5;28;01mfor\u001b[39;00m child, _ \u001b[38;5;129;01min\u001b[39;00m current_node\u001b[38;5;241m.\u001b[39mchildren \u001b[38;5;28;01mif\u001b[39;00m child\u001b[38;5;241m.\u001b[39mvalue \u001b[38;5;241m==\u001b[39m value\n\u001b[1;32m     82\u001b[0m     )\n\u001b[1;32m     83\u001b[0m \u001b[38;5;28;01mreturn\u001b[39;00m current_node\n",
      "\u001b[0;31mKeyboardInterrupt\u001b[0m: "
     ]
    }
   ],
   "source": [
    "adapted_X, adapted_weights_X = uniform_empirical_grid_measure(X.T, delta_n=0.1, use_weights=True)\n",
    "adapted_Y, adapted_weights_Y = uniform_empirical_grid_measure(Y.T, delta_n=0.1, use_weights=True)\n",
    "\n",
    "adapted_tree_1 = build_tree_from_paths(adapted_X, adapted_weights_X)\n",
    "adapted_tree_2 = build_tree_from_paths(adapted_Y, adapted_weights_Y)\n",
    "\n",
    "\n",
    "max_depth = get_depth(adapted_tree_1)\n",
    "start_time = time.time()\n",
    "distance_pot = compute_nested_distance(\n",
    "    adapted_tree_1,\n",
    "    adapted_tree_2,\n",
    "    max_depth,\n",
    "    method=\"solver_lp_pot\",\n",
    "    return_matrix=False,\n",
    "    lambda_reg=0,\n",
    "    power=2,\n",
    ")\n",
    "elapsed_time_pot = time.time() - start_time\n",
    "\n",
    "print(\"Numerical AW_2^2 (Adapted OT):\", distance_pot)\n",
    "print(\"Elapsed time (Adapted OT): {:.4f} seconds\".format(elapsed_time_pot))"
   ]
  },
  {
   "cell_type": "code",
   "execution_count": null,
   "metadata": {},
   "outputs": [],
   "source": [
    "# Grid projection of k-mean projection\n",
    "adaptedX = adapted_empirical_measure(X, delta_n = 0.1)\n",
    "adaptedY = adapted_empirical_measure(Y, delta_n = 0.1)\n",
    "\n",
    "q2v, v2q, mu_x, nu_y, q2v_x, v2q_x, q2v_y, v2q_y = quantization(adaptedX, adaptedY, markovian=False)\n",
    "\n",
    "start_time = time.time()\n",
    "AW_2square, V = nested(mu_x, nu_y, v2q_x, v2q_y, q2v, markovian=False)\n",
    "elapsed_time_pot = time.time() - start_time\n",
    "\n",
    "dist_bench = adapted_wasserstein_squared(A, B)\n",
    "print(\"Theoretical AW_2^2: \", dist_bench)\n",
    "print(\"Numerical AW_2^2: \", AW_2square)\n",
    "print(\"Elapsed time (Adapted OT): {:.4f} seconds\".format(elapsed_time_pot))"
   ]
  },
  {
   "cell_type": "code",
   "execution_count": null,
   "metadata": {},
   "outputs": [],
   "source": []
  }
 ],
 "metadata": {
  "kernelspec": {
   "display_name": "Python 3",
   "language": "python",
   "name": "python3"
  },
  "language_info": {
   "codemirror_mode": {
    "name": "ipython",
    "version": 3
   },
   "file_extension": ".py",
   "mimetype": "text/x-python",
   "name": "python",
   "nbconvert_exporter": "python",
   "pygments_lexer": "ipython3",
   "version": "3.10.7"
  }
 },
 "nbformat": 4,
 "nbformat_minor": 2
}
