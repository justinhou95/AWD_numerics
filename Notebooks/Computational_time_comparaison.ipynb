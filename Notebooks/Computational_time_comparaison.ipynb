{
 "cells": [
  {
   "cell_type": "code",
   "execution_count": 2,
   "metadata": {},
   "outputs": [],
   "source": [
    "import os\n",
    "import sys\n",
    "import numpy as np\n",
    "import time\n",
    "import warnings\n",
    "import random\n",
    "\n",
    "# Define paths\n",
    "notebooks_path = os.path.abspath(os.getcwd()) \n",
    "src_path = os.path.abspath(os.path.join(notebooks_path, \"../src\"))\n",
    "if src_path not in sys.path:\n",
    "    sys.path.insert(0, src_path)\n",
    "\n",
    "# Import modules\n",
    "from multi_dimension.Multidimension_trees import *\n",
    "from multi_dimension.Multidimension_solver import *\n",
    "from multi_dimension.Multidimension_adapted_empirical_measure import *\n",
    "\n",
    "from measure_sampling.Gen_Path_and_AdaptedTrees import generate_adapted_tree\n",
    "from trees.Tree_Node import *\n",
    "from trees.TreeAnalysis import *\n",
    "from trees.TreeVisualization import *\n",
    "from trees.Save_Load_trees import *\n",
    "from trees.Tree_AWD_utilities import *\n",
    "from trees.Build_trees_from_paths import build_tree_from_paths\n",
    "\n",
    "from adapted_empirical_measure.AEM_grid import *\n",
    "from adapted_empirical_measure.AEM_kMeans import *\n",
    "from benchmark_value_gaussian.Comp_AWD2_Gaussian import *\n",
    "# from awd_trees.Gurobi_AOT import *\n",
    "from awd_trees.Nested_Dist_Algo import compute_nested_distance, compute_nested_distance_parallel\n",
    "\n",
    "# Suppress warnings\n",
    "warnings.filterwarnings(\"ignore\", category=FutureWarning)\n",
    "warnings.filterwarnings(\"ignore\", category=UserWarning)\n",
    "\n",
    "# Import custom modules from src\n",
    "from utils_solver import Lmatrix2paths, adapted_empirical_measure, adapted_wasserstein_squared, quantization, nested, plot_V"
   ]
  },
  {
   "cell_type": "code",
   "execution_count": 3,
   "metadata": {},
   "outputs": [
    {
     "name": "stdout",
     "output_type": "stream",
     "text": [
      "Random seed for this run: 44\n"
     ]
    }
   ],
   "source": [
    "# Set random seeds for reproducibility\n",
    "np.random.seed(0)\n",
    "random.seed(0)\n",
    "verbose = False\n",
    "\n",
    "# Create a random seed variable for additional randomness in the notebook\n",
    "random_seed = np.random.randint(100)\n",
    "print(\"Random seed for this run:\", random_seed)"
   ]
  },
  {
   "cell_type": "markdown",
   "metadata": {},
   "source": [
    "## Generating Path (same randomness)"
   ]
  },
  {
   "cell_type": "code",
   "execution_count": 4,
   "metadata": {},
   "outputs": [
    {
     "name": "stdout",
     "output_type": "stream",
     "text": [
      "mu\n",
      "Cholesky:\n",
      "[[1 0 0 0]\n",
      " [1 2 0 0]\n",
      " [1 2 3 0]\n",
      " [1 2 3 4]]\n",
      "Covariance:\n",
      "[[ 1  1  1  1]\n",
      " [ 1  5  5  5]\n",
      " [ 1  5 14 14]\n",
      " [ 1  5 14 30]]\n",
      "nu\n",
      "Cholesky:\n",
      "[[1 0 0 0]\n",
      " [2 1 0 0]\n",
      " [3 2 1 0]\n",
      " [4 3 2 1]]\n",
      "Covariance:\n",
      "[[ 1  2  3  4]\n",
      " [ 2  5  8 11]\n",
      " [ 3  8 14 20]\n",
      " [ 4 11 20 30]]\n"
     ]
    }
   ],
   "source": [
    "n_sample = 200\n",
    "\n",
    "\n",
    "# For measure \"mu\"\n",
    "print(\"mu\")\n",
    "L = np.array([[1, 0, 0, 0], [1, 2, 0, 0], [1, 2, 3, 0], [1,2,3, 4]])\n",
    "normalize = False  # Not used explicitly here\n",
    "X, A = Lmatrix2paths(L, n_sample, seed=random_seed)\n",
    "\n",
    "# For measure \"nu\"\n",
    "print(\"nu\")\n",
    "M = np.array([[1, 0, 0, 0], [2, 1, 0, 0], [3, 2, 1, 0], [4, 3, 2, 1]])\n",
    "Y, B = Lmatrix2paths(M, n_sample, seed=random_seed)"
   ]
  },
  {
   "cell_type": "markdown",
   "metadata": {},
   "source": [
    "## Real distance (not particularly relevant here, as we are comparing speed rather than convergence). \n",
    "\n",
    "### What matters here is that the three methods produce the same output, as they should each solve the discrete AOT problem exactly."
   ]
  },
  {
   "cell_type": "code",
   "execution_count": 5,
   "metadata": {},
   "outputs": [
    {
     "name": "stdout",
     "output_type": "stream",
     "text": [
      "Theoretical AW_2^2:  30.0\n"
     ]
    }
   ],
   "source": [
    "dist_bench = adapted_wasserstein_squared(A, B)\n",
    "print(\"Theoretical AW_2^2: \", dist_bench)"
   ]
  },
  {
   "cell_type": "markdown",
   "metadata": {},
   "source": [
    "## With your code"
   ]
  },
  {
   "cell_type": "code",
   "execution_count": 8,
   "metadata": {},
   "outputs": [
    {
     "name": "stdout",
     "output_type": "stream",
     "text": [
      "Quantization ......\n",
      "Number of distinct values in global quantization:  197\n",
      "Number of condition subpaths of mu_x\n",
      "Time 0: 1\n",
      "Time 1: 49\n",
      "Time 2: 192\n",
      "Time 3: 200\n",
      "Number of condition subpaths of nu_y\n",
      "Time 0: 1\n",
      "Time 1: 49\n",
      "Time 2: 187\n",
      "Time 3: 200\n",
      "Nested backward induction .......\n"
     ]
    },
    {
     "name": "stderr",
     "output_type": "stream",
     "text": [
      "Timestep 3: 100%|██████████| 200/200 [00:03<00:00, 54.19it/s]\n",
      "Timestep 2: 100%|██████████| 192/192 [00:03<00:00, 52.77it/s]\n",
      "Timestep 1: 100%|██████████| 49/49 [00:00<00:00, 166.29it/s]\n",
      "Timestep 0: 100%|██████████| 1/1 [00:00<00:00, 982.27it/s]"
     ]
    },
    {
     "name": "stdout",
     "output_type": "stream",
     "text": [
      "Theoretical AW_2^2:  30.0\n",
      "Numerical AW_2^2:  25.109290833333336\n",
      "Elapsed time (Adapted OT): 7.6320 seconds\n"
     ]
    },
    {
     "name": "stderr",
     "output_type": "stream",
     "text": [
      "\n"
     ]
    }
   ],
   "source": [
    "# Grid projection of k-mean projection\n",
    "adaptedX = adapted_empirical_measure(X, delta_n = 0.1)\n",
    "adaptedY = adapted_empirical_measure(Y, delta_n = 0.1)\n",
    "\n",
    "q2v, v2q, mu_x, nu_y, q2v_x, v2q_x, q2v_y, v2q_y = quantization(adaptedX, adaptedY, markovian=False)\n",
    "\n",
    "start_time = time.time()\n",
    "AW_2square, V = nested(mu_x, nu_y, v2q_x, v2q_y, q2v, markovian=False)\n",
    "elapsed_time_pot = time.time() - start_time\n",
    "\n",
    "dist_bench = adapted_wasserstein_squared(A, B)\n",
    "print(\"Theoretical AW_2^2: \", dist_bench)\n",
    "print(\"Numerical AW_2^2: \", AW_2square)\n",
    "print(\"Elapsed time (Adapted OT): {:.4f} seconds\".format(elapsed_time_pot))"
   ]
  },
  {
   "cell_type": "markdown",
   "metadata": {},
   "source": [
    "## With my code not-parallel"
   ]
  },
  {
   "cell_type": "code",
   "execution_count": 14,
   "metadata": {},
   "outputs": [],
   "source": [
    "adapted_X1, adapted_weights_X = uniform_empirical_grid_measure(X.T, delta_n=0.1, use_weights=True)"
   ]
  },
  {
   "cell_type": "code",
   "execution_count": 15,
   "metadata": {},
   "outputs": [],
   "source": [
    "# Compute uniform adapted empirical grid measures with weights\n",
    "adapted_X1, adapted_weights_X = uniform_empirical_grid_measure(X.T, delta_n=0.1, use_weights=True)\n",
    "adapted_Y, adapted_weights_Y = uniform_empirical_grid_measure(Y.T, delta_n=0.1, use_weights=True)\n",
    "\n",
    "# Build trees from the adapted paths\n",
    "adapted_tree_1 = build_tree_from_paths(adapted_X, adapted_weights_X)\n",
    "adapted_tree_2 = build_tree_from_paths(adapted_Y, adapted_weights_Y)"
   ]
  },
  {
   "cell_type": "code",
   "execution_count": 16,
   "metadata": {},
   "outputs": [
    {
     "name": "stderr",
     "output_type": "stream",
     "text": [
      "Depth 3: 100%|██████████| 200/200 [00:01<00:00, 124.12it/s]\n",
      "Depth 2: 100%|██████████| 192/192 [00:01<00:00, 134.65it/s]\n",
      "Depth 1: 100%|██████████| 49/49 [00:00<00:00, 515.03it/s]\n",
      "Depth 0: 100%|██████████| 1/1 [00:00<00:00, 1968.23it/s]"
     ]
    },
    {
     "name": "stdout",
     "output_type": "stream",
     "text": [
      "Numerical AW_2^2 (Adapted OT): 25.10929083333333\n",
      "Elapsed time (Adapted OT): 3.1508 seconds\n"
     ]
    },
    {
     "name": "stderr",
     "output_type": "stream",
     "text": [
      "\n"
     ]
    }
   ],
   "source": [
    "# Compute the nested (adapted optimal transport) distance and measure execution time\n",
    "max_depth = get_depth(adapted_tree_1)\n",
    "start_time = time.time()\n",
    "distance_pot = compute_nested_distance(\n",
    "    adapted_tree_1,\n",
    "    adapted_tree_2,\n",
    "    max_depth,\n",
    "    method=\"solver_lp_pot\",\n",
    "    return_matrix=False,\n",
    "    lambda_reg=0,\n",
    "    power=2,\n",
    ")\n",
    "elapsed_time_pot = time.time() - start_time\n",
    "\n",
    "print(\"Numerical AW_2^2 (Adapted OT):\", distance_pot)\n",
    "print(\"Elapsed time (Adapted OT): {:.4f} seconds\".format(elapsed_time_pot))"
   ]
  },
  {
   "cell_type": "markdown",
   "metadata": {},
   "source": [
    "## My code parallel"
   ]
  },
  {
   "cell_type": "code",
   "execution_count": 17,
   "metadata": {},
   "outputs": [
    {
     "name": "stdout",
     "output_type": "stream",
     "text": [
      "Depth: 3\n"
     ]
    },
    {
     "name": "stderr",
     "output_type": "stream",
     "text": [
      "Parallel Depth 3: 100%|██████████| 12/12 [00:03<00:00,  3.95it/s]\n"
     ]
    },
    {
     "name": "stdout",
     "output_type": "stream",
     "text": [
      "Depth: 2\n"
     ]
    },
    {
     "name": "stderr",
     "output_type": "stream",
     "text": [
      "Parallel Depth 2: 100%|██████████| 12/12 [00:02<00:00,  4.47it/s]\n"
     ]
    },
    {
     "name": "stdout",
     "output_type": "stream",
     "text": [
      "Depth: 1\n"
     ]
    },
    {
     "name": "stderr",
     "output_type": "stream",
     "text": [
      "Parallel Depth 1: 100%|██████████| 12/12 [00:02<00:00,  4.73it/s]\n"
     ]
    },
    {
     "name": "stdout",
     "output_type": "stream",
     "text": [
      "Depth: 0\n"
     ]
    },
    {
     "name": "stderr",
     "output_type": "stream",
     "text": [
      "Parallel Depth 0: 100%|██████████| 12/12 [00:02<00:00,  5.36it/s]\n"
     ]
    },
    {
     "name": "stdout",
     "output_type": "stream",
     "text": [
      "Nested distance Parellel: 25.10929083333333\n",
      "Computation time Parellel: 13.6722 seconds\n"
     ]
    }
   ],
   "source": [
    "# Compute nested distance\n",
    "max_depth_val = get_depth(adapted_tree_1)\n",
    "start_time = time.time()\n",
    "distance_pot = compute_nested_distance_parallel(adapted_tree_1, adapted_tree_2, max_depth_val, return_matrix=False, power=2)\n",
    "elapsed_time_pot = time.time() - start_time\n",
    "\n",
    "print(\"Nested distance Parellel:\", distance_pot)\n",
    "print(\"Computation time Parellel: {:.4f} seconds\".format(elapsed_time_pot))"
   ]
  }
 ],
 "metadata": {
  "kernelspec": {
   "display_name": ".venv",
   "language": "python",
   "name": "python3"
  },
  "language_info": {
   "codemirror_mode": {
    "name": "ipython",
    "version": 3
   },
   "file_extension": ".py",
   "mimetype": "text/x-python",
   "name": "python",
   "nbconvert_exporter": "python",
   "pygments_lexer": "ipython3",
   "version": "3.9.13"
  }
 },
 "nbformat": 4,
 "nbformat_minor": 2
}
