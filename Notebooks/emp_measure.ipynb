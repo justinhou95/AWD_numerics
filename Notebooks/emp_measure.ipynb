{
 "cells": [
  {
   "cell_type": "code",
   "execution_count": null,
   "metadata": {},
   "outputs": [
    {
     "name": "stdout",
     "output_type": "stream",
     "text": [
      "Generating adapted tree from Brownian motion...\n",
      "Generating adapted tree from Financial Model...\n",
      "Brownian Motion Adapted Tree generated successfully in 0.09 seconds.\n",
      "Time breakdown: Sample generation: 0.00s, Measure k-means: 0.09s, Tree construction: 0.00s\n",
      "Financial Model Adapted Tree generated successfully in 0.06 seconds.\n",
      "Time breakdown: Sample generation: 0.00s, Measure k-means: 0.06s, Tree construction: 0.00s\n"
     ]
    }
   ],
   "source": [
    "import numpy as np\n",
    "import os\n",
    "import sys\n",
    "import warnings\n",
    "import time\n",
    "\n",
    "measure_sampling_path = os.path.abspath('/Users/rubenbontorno/Documents/Master_Thesis/Code/AWD_numerics/Measure_sampling')\n",
    "trees_path = os.path.abspath('/Users/rubenbontorno/Documents/Master_Thesis/Code/AWD_numerics/Trees')\n",
    "\n",
    "if measure_sampling_path not in sys.path:\n",
    "    sys.path.append(measure_sampling_path)\n",
    "\n",
    "if trees_path not in sys.path:\n",
    "    sys.path.append(trees_path)\n",
    "\n",
    "# Now import\n",
    "from Gen_Path_and_AdaptedTrees import generate_adapted_tree\n",
    "from Tree_Node import *\n",
    "from TreeAnalysis import *\n",
    "from TreeVisualization import *\n",
    "from Save_Load_trees import *\n",
    "from Tree_AWD_utilities import *\n",
    "\n",
    "# Suppress sklearn warnings\n",
    "warnings.filterwarnings(\"ignore\", category=FutureWarning)\n",
    "warnings.filterwarnings(\"ignore\", category=UserWarning)\n",
    "\n",
    "# Set parameters\n",
    "num_paths = 100   # number of sample paths\n",
    "time_steps = 4   # number of time steps per path\n",
    "scale = 1\n",
    "use_weights = 1\n",
    "\n",
    "# Generate adapted trees for Brownian motion and financial model\n",
    "print(\"Generating adapted tree from Brownian motion...\")\n",
    "bm_root, bm_time_tdetail = generate_adapted_tree(num_paths=num_paths, time_steps=time_steps, scale=scale, use_weights=use_weights, model='brownian', return_times=True)\n",
    "\n",
    "print(\"Generating adapted tree from Financial Model...\")\n",
    "fin_root, fin_time_tdetail = generate_adapted_tree(num_paths=num_paths, time_steps=time_steps, scale=scale, use_weights=use_weights, model='financial', return_times=True)\n",
    "\n",
    "print(f\"Brownian Motion Adapted Tree generated successfully in {sum(bm_time_tdetail):.2f} seconds.\")\n",
    "print(f\"Time breakdown: Sample generation: {bm_time_tdetail[0]:.2f}s, Measure k-means: {bm_time_tdetail[1]:.2f}s, Tree construction: {bm_time_tdetail[2]:.2f}s\")\n",
    "\n",
    "print(f\"Financial Model Adapted Tree generated successfully in {sum(fin_time_tdetail):.2f} seconds.\")\n",
    "print(f\"Time breakdown: Sample generation: {fin_time_tdetail[0]:.2f}s, Measure k-means: {fin_time_tdetail[1]:.2f}s, Tree construction: {fin_time_tdetail[2]:.2f}s\")\n"
   ]
  },
  {
   "cell_type": "code",
   "execution_count": 2,
   "metadata": {},
   "outputs": [],
   "source": [
    "def print_results(distance, prob_matrix, elapsed_time):\n",
    "    \"\"\"Prints the nested distance, probability matrix, and computation time in a formatted way.\"\"\"\n",
    "    print(f\"Nested Distance: {distance}\\n\")\n",
    "    print(f\"Final Probability Matrix:\")\n",
    "    for row in prob_matrix:\n",
    "        print(\" | \".join(f\"{value:.5f}\" for value in row))\n",
    "    print(f\"\\nComputation Time: {elapsed_time:.4f} seconds\\n\")\n",
    "    print(\"-\" * 50 + \"\\n\")"
   ]
  },
  {
   "cell_type": "code",
   "execution_count": 3,
   "metadata": {},
   "outputs": [
    {
     "name": "stdout",
     "output_type": "stream",
     "text": [
      "Set parameter Username\n",
      "Set parameter LicenseID to value 2604970\n",
      "Academic license - for non-commercial use only - expires 2026-01-03\n",
      "2.8161828899857655 2.3715929985046387\n"
     ]
    }
   ],
   "source": [
    "import sys\n",
    "import os\n",
    "import time\n",
    "\n",
    "# Define the absolute path to the AWD_trees folder\n",
    "awd_trees_path = os.path.abspath('/Users/rubenbontorno/Documents/Master_Thesis/Code/AWD_numerics/AWD_trees')\n",
    "\n",
    "# Add it to sys.path if not already present\n",
    "if awd_trees_path not in sys.path:\n",
    "    sys.path.append(awd_trees_path)\n",
    "\n",
    "import time\n",
    "from Gurobi_AOT import *\n",
    "\n",
    "formatted_tree_1 = get_sample_paths(bm_root)\n",
    "formatted_tree_2 = get_sample_paths(fin_root)\n",
    "\n",
    "def cost_function(x, y):\n",
    "    \"\"\"Cost function: L1 distance.\"\"\"\n",
    "    return np.sum(np.abs(x - y))\n",
    "\n",
    "start_time = time.time()\n",
    "\n",
    "val_gurobi = gurobi_bm(\n",
    "    [formatted_tree_1, formatted_tree_2],\n",
    "    f=cost_function,\n",
    "    r_opti=0,\n",
    "    causal=1,\n",
    "    anticausal=1,\n",
    "    outputflag=0\n",
    ")\n",
    "\n",
    "end_time = time.time()\n",
    "elapsed_time_gurobi = end_time - start_time\n",
    "\n",
    "\n",
    "print(val_gurobi, elapsed_time_gurobi)"
   ]
  },
  {
   "cell_type": "code",
   "execution_count": 4,
   "metadata": {},
   "outputs": [
    {
     "name": "stdout",
     "output_type": "stream",
     "text": [
      "4.455352792668593\n",
      "3.6105759143829346\n"
     ]
    }
   ],
   "source": [
    "import time\n",
    "\n",
    "# Define the absolute path to the AWD_trees folder\n",
    "awd_trees_path = os.path.abspath('/Users/rubenbontorno/Documents/Master_Thesis/Code/AWD_numerics/AWD_trees')\n",
    "\n",
    "# Add it to sys.path if not already present\n",
    "if awd_trees_path not in sys.path:\n",
    "    sys.path.append(awd_trees_path)\n",
    "\n",
    "\n",
    "from Nested_Dist_Algo import compute_nested_distance\n",
    "\n",
    "# Start timing the Sinkhorn with regularization computation\n",
    "\n",
    "\n",
    "start_time = time.time()\n",
    "\n",
    "max_depth = get_depth(bm_root)\n",
    "\n",
    "start_time = time.time()\n",
    "\n",
    "distance = compute_nested_distance(\n",
    "    bm_root, fin_root, max_depth, method=\"solver_lp\", return_matrix=False, lambda_reg=0\n",
    ")\n",
    "\n",
    "end_time = time.time()\n",
    "elapsed_time = end_time - start_time\n",
    "\n",
    "print(distance)\n",
    "print(elapsed_time)"
   ]
  },
  {
   "cell_type": "code",
   "execution_count": 5,
   "metadata": {},
   "outputs": [
    {
     "name": "stdout",
     "output_type": "stream",
     "text": [
      "4.455352792668593\n",
      "0.6571199893951416\n"
     ]
    }
   ],
   "source": [
    "# Define the absolute path to the AWD_trees folder\n",
    "awd_trees_path = os.path.abspath('/Users/rubenbontorno/Documents/Master_Thesis/Code/AWD_numerics/AWD_trees')\n",
    "\n",
    "# Add it to sys.path if not already present\n",
    "if awd_trees_path not in sys.path:\n",
    "    sys.path.append(awd_trees_path)\n",
    "\n",
    "\n",
    "from Nested_Dist_Algo import compute_nested_distance\n",
    "start_time = time.time()\n",
    "\n",
    "max_depth = get_depth(bm_root)\n",
    "distance = compute_nested_distance(\n",
    "    bm_root, fin_root, max_depth, method=\"solver_pot\", return_matrix=False, lambda_reg=0\n",
    ")\n",
    "\n",
    "end_time = time.time()\n",
    "elapsed_time = end_time - start_time\n",
    "\n",
    "print(distance)\n",
    "print(elapsed_time)"
   ]
  },
  {
   "cell_type": "code",
   "execution_count": 6,
   "metadata": {},
   "outputs": [
    {
     "name": "stdout",
     "output_type": "stream",
     "text": [
      "4.512724653878329\n",
      "3.2575552463531494\n"
     ]
    }
   ],
   "source": [
    "# Define the absolute path to the AWD_trees folder\n",
    "awd_trees_path = os.path.abspath('/Users/rubenbontorno/Documents/Master_Thesis/Code/AWD_numerics/AWD_trees')\n",
    "\n",
    "# Add it to sys.path if not already present\n",
    "if awd_trees_path not in sys.path:\n",
    "    sys.path.append(awd_trees_path)\n",
    "\n",
    "\n",
    "from Nested_Dist_Algo import compute_nested_distance\n",
    "start_time = time.time()\n",
    "\n",
    "max_depth = get_depth(bm_root)\n",
    "\n",
    "# Compute nested distance using Sinkhorn iteration with regularization\n",
    "distance_sinkhorn_reg = compute_nested_distance(\n",
    "    bm_root, fin_root, max_depth, method=\"Sinkhorn\", return_matrix=False, lambda_reg=8\n",
    ")\n",
    "\n",
    "# End timing\n",
    "end_time = time.time()\n",
    "elapsed_time_sinkhorn_reg = end_time - start_time\n",
    "\n",
    "print(distance_sinkhorn_reg)\n",
    "print(elapsed_time_sinkhorn_reg)"
   ]
  },
  {
   "cell_type": "code",
   "execution_count": 13,
   "metadata": {},
   "outputs": [
    {
     "name": "stdout",
     "output_type": "stream",
     "text": [
      "Generating adapted tree from Brownian motion...\n",
      "Generating adapted tree from Financial Model...\n",
      "Brownian Motion Adapted Tree generated successfully in 0.28 seconds.\n",
      "Time breakdown: Sample generation: 0.00s, Measure k-means: 0.27s, Tree construction: 0.00s\n",
      "Financial Model Adapted Tree generated successfully in 0.21 seconds.\n",
      "Time breakdown: Sample generation: 0.00s, Measure k-means: 0.20s, Tree construction: 0.00s\n"
     ]
    }
   ],
   "source": [
    "# Set parameters\n",
    "num_paths = 200   # number of sample paths\n",
    "time_steps = 5   # number of time steps per path\n",
    "scale = 1\n",
    "use_weights = 1\n",
    "\n",
    "\n",
    "# Generate adapted trees for Brownian motion and financial model\n",
    "print(\"Generating adapted tree from Brownian motion...\")\n",
    "bm_root, bm_time_tdetail = generate_adapted_tree(num_paths=num_paths, time_steps=time_steps, scale=1, use_weights=use_weights, model='brownian', return_times=True)\n",
    "\n",
    "print(\"Generating adapted tree from Financial Model...\")\n",
    "fin_root, fin_time_tdetail = generate_adapted_tree(num_paths=num_paths, time_steps=time_steps, scale=0.5**2, use_weights=use_weights, model='brownian', return_times=True)\n",
    "\n",
    "print(f\"Brownian Motion Adapted Tree generated successfully in {sum(bm_time_tdetail):.2f} seconds.\")\n",
    "print(f\"Time breakdown: Sample generation: {bm_time_tdetail[0]:.2f}s, Measure k-means: {bm_time_tdetail[1]:.2f}s, Tree construction: {bm_time_tdetail[2]:.2f}s\")\n",
    "\n",
    "print(f\"Financial Model Adapted Tree generated successfully in {sum(fin_time_tdetail):.2f} seconds.\")\n",
    "print(f\"Time breakdown: Sample generation: {fin_time_tdetail[0]:.2f}s, Measure k-means: {fin_time_tdetail[1]:.2f}s, Tree construction: {fin_time_tdetail[2]:.2f}s\")"
   ]
  },
  {
   "cell_type": "code",
   "execution_count": 14,
   "metadata": {},
   "outputs": [
    {
     "name": "stdout",
     "output_type": "stream",
     "text": [
      "5.5568406512517825\n",
      "9.633142232894897\n"
     ]
    }
   ],
   "source": [
    "start_time = time.time()\n",
    "\n",
    "max_depth = get_depth(bm_root)\n",
    "distance = compute_nested_distance(\n",
    "    bm_root, fin_root, max_depth, method=\"solver_pot\", return_matrix=False, lambda_reg=0\n",
    ")\n",
    "\n",
    "end_time = time.time()\n",
    "elapsed_time = end_time - start_time\n",
    "\n",
    "print(distance)\n",
    "print(elapsed_time)"
   ]
  },
  {
   "cell_type": "code",
   "execution_count": null,
   "metadata": {},
   "outputs": [],
   "source": []
  }
 ],
 "metadata": {
  "kernelspec": {
   "display_name": "Python 3",
   "language": "python",
   "name": "python3"
  },
  "language_info": {
   "codemirror_mode": {
    "name": "ipython",
    "version": 3
   },
   "file_extension": ".py",
   "mimetype": "text/x-python",
   "name": "python",
   "nbconvert_exporter": "python",
   "pygments_lexer": "ipython3",
   "version": "3.10.7"
  }
 },
 "nbformat": 4,
 "nbformat_minor": 2
}
