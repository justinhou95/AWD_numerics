{
 "cells": [
  {
   "cell_type": "markdown",
   "metadata": {},
   "source": [
    "# Convergence Analysis of Adapted Empirical Measure and Discrete Optimal Transport Performance\n",
    "\n",
    "## Overview\n",
    "This notebook investigates the convergence properties of the adapted empirical measure and evaluates the performance of discrete optimal transport calculations on larger trees. The study consists of:\n",
    "\n",
    "1. **Generating and Comparing Two Brownian Motion Adapted Trees**\n",
    "   - We sample paths from two Brownian motions.\n",
    "   - Construct adapted trees for each.\n",
    "   - Compare the values obtained against benchmark values.\n",
    "\n",
    "2. **Benchmarking**\n",
    "   - Compute the theoretical adapted Wasserstein distance.\n",
    "   - Validate results against numerical computations using discrete trees.\n",
    "\n",
    "This approach helps assess the accuracy and efficiency of the empirical adapted measure in capturing the underlying stochastic process."
   ]
  },
  {
   "cell_type": "code",
   "execution_count": 13,
   "metadata": {},
   "outputs": [],
   "source": [
    "import numpy as np\n",
    "import os\n",
    "import sys\n",
    "import warnings\n",
    "import time\n",
    "\n",
    "# Define paths to relevant modules\n",
    "measure_sampling_path = os.path.abspath('/Users/rubenbontorno/Documents/Master_Thesis/Code/AWD_numerics/Measure_sampling')\n",
    "trees_path = os.path.abspath('/Users/rubenbontorno/Documents/Master_Thesis/Code/AWD_numerics/Trees')\n",
    "Benchmark_path = os.path.abspath('/Users/rubenbontorno/Documents/Master_Thesis/Code/AWD_numerics/Benchmark_value_Gausian')\n",
    "awd_trees_path = os.path.abspath('/Users/rubenbontorno/Documents/Master_Thesis/Code/AWD_numerics/AWD_trees')\n",
    "\n",
    "# Add paths to sys.path\n",
    "for path in [measure_sampling_path, trees_path, Benchmark_path, awd_trees_path]:\n",
    "    if path not in sys.path:\n",
    "        sys.path.append(path)\n",
    "\n",
    "# Import necessary modules\n",
    "from Gen_Path_and_AdaptedTrees import generate_adapted_tree\n",
    "from Tree_Node import *\n",
    "from TreeAnalysis import *\n",
    "from TreeVisualization import *\n",
    "from Save_Load_trees import *\n",
    "from Tree_AWD_utilities import *\n",
    "from Comp_AWD2_Gaussian import build_mean_and_cov, adapted_wasserstein_squared\n",
    "from Gurobi_AOT import *\n",
    "from Nested_Dist_Algo import compute_nested_distance\n",
    "\n",
    "# Suppress sklearn warnings\n",
    "warnings.filterwarnings(\"ignore\", category=FutureWarning)\n",
    "warnings.filterwarnings(\"ignore\", category=UserWarning)"
   ]
  },
  {
   "cell_type": "code",
   "execution_count": 17,
   "metadata": {},
   "outputs": [
    {
     "name": "stdout",
     "output_type": "stream",
     "text": [
      "Generating adapted tree from the first Brownian motion...\n",
      "Generating adapted tree from the second Brownian motion...\n",
      "Brownian Motion Adapted Tree 1 generated successfully in 78.64 seconds.\n",
      "Time breakdown: Sample generation: 0.03s, Measure k-means: 78.57s, Tree construction: 0.04s\n",
      "Brownian Motion Adapted Tree 2 generated successfully in 61.54 seconds.\n",
      "Time breakdown: Sample generation: 0.03s, Measure k-means: 60.75s, Tree construction: 0.76s\n"
     ]
    }
   ],
   "source": [
    "# Set parameters\n",
    "num_paths = 5000   # Number of sample paths\n",
    "time_steps = 4   # Number of time steps per path\n",
    "scale1 = 1\n",
    "scale2 = 0.5\n",
    "use_weights = 1\n",
    "\n",
    "# Generate adapted trees for Brownian motion\n",
    "print(\"Generating adapted tree from the first Brownian motion...\")\n",
    "bm1_root, bm1_time_tdetail = generate_adapted_tree(num_paths=num_paths, time_steps=time_steps, scale=scale1, use_weights=use_weights, model='brownian', return_times=True)\n",
    "\n",
    "print(\"Generating adapted tree from the second Brownian motion...\")\n",
    "bm2_root, bm2_time_tdetail = generate_adapted_tree(num_paths=num_paths, time_steps=time_steps, scale=scale2, use_weights=use_weights, model='brownian', return_times=True)\n",
    "\n",
    "print(f\"Brownian Motion Adapted Tree 1 generated successfully in {sum(bm1_time_tdetail):.2f} seconds.\")\n",
    "print(f\"Time breakdown: Sample generation: {bm1_time_tdetail[0]:.2f}s, Measure k-means: {bm1_time_tdetail[1]:.2f}s, Tree construction: {bm1_time_tdetail[2]:.2f}s\")\n",
    "\n",
    "print(f\"Brownian Motion Adapted Tree 2 generated successfully in {sum(bm2_time_tdetail):.2f} seconds.\")\n",
    "print(f\"Time breakdown: Sample generation: {bm2_time_tdetail[0]:.2f}s, Measure k-means: {bm2_time_tdetail[1]:.2f}s, Tree construction: {bm2_time_tdetail[2]:.2f}s\")"
   ]
  },
  {
   "cell_type": "code",
   "execution_count": 18,
   "metadata": {},
   "outputs": [
    {
     "name": "stdout",
     "output_type": "stream",
     "text": [
      "Adapted Wasserstein Squared Distance: 1.5000\n",
      "Adapted Wasserstein Distance: 1.2247\n"
     ]
    }
   ],
   "source": [
    "# Benchmarking Adapted Wasserstein Distance\n",
    "\n",
    "# Define parameters\n",
    "a, b = 0, 0\n",
    "var_a, var_b = scale1**2, scale2**2\n",
    "t = time_steps-1\n",
    "\n",
    "# Build mean and covariance matrices for both processes\n",
    "a_vec, A_mat = build_mean_and_cov(t, mean_val=a, var_factor=var_a)\n",
    "b_vec, B_mat = build_mean_and_cov(t, mean_val=b, var_factor=var_b)\n",
    "\n",
    "# Compute adapted Wasserstein squared distance\n",
    "distance_squared = adapted_wasserstein_squared(a_vec, A_mat, b_vec, B_mat)\n",
    "distance = np.sqrt(distance_squared)\n",
    "\n",
    "print(f\"Adapted Wasserstein Squared Distance: {distance_squared:.4f}\")\n",
    "print(f\"Adapted Wasserstein Distance: {distance:.4f}\")"
   ]
  },
  {
   "cell_type": "code",
   "execution_count": 19,
   "metadata": {},
   "outputs": [
    {
     "name": "stdout",
     "output_type": "stream",
     "text": [
      "\n",
      "Computing adapted optimal transport using POT solver...\n",
      "POT Solver Distance: 1.8265, Computation Time: 1392.99s\n"
     ]
    }
   ],
   "source": [
    "# Compute optimal transport using POT solver\n",
    "print(\"\\nComputing adapted optimal transport using POT solver...\")\n",
    "max_depth = get_depth(bm1_root)\n",
    "start_time = time.time()\n",
    "distance_pot = compute_nested_distance(\n",
    "    bm1_root, bm2_root, max_depth, method=\"solver_pot\", return_matrix=False, lambda_reg=0, power = 2\n",
    ")\n",
    "elapsed_time_pot = time.time() - start_time\n",
    "print(f\"POT Solver Distance: {distance_pot:.4f}, Computation Time: {elapsed_time_pot:.2f}s\")"
   ]
  },
  {
   "cell_type": "code",
   "execution_count": null,
   "metadata": {},
   "outputs": [],
   "source": [
    "# Compute Optimal Transport Distances between Trees\n",
    "formatted_tree_1 = get_sample_paths(bm1_root)\n",
    "formatted_tree_2 = get_sample_paths(bm2_root)\n",
    "\n",
    "def cost_function(x, y):\n",
    "    \"\"\"Cost function: L1 distance.\"\"\"\n",
    "    return np.sum(np.abs(x - y)**2)\n",
    "\n",
    "# Compute optimal transport using Gurobi\n",
    "print(\"\\nComputing adapted optimal transport using Gurobi...\")\n",
    "start_time = time.time()\n",
    "val_gurobi = gurobi_bm(\n",
    "    [formatted_tree_1, formatted_tree_2],\n",
    "    f=cost_function,\n",
    "    r_opti=0,\n",
    "    causal=1,\n",
    "    anticausal=1,\n",
    "    outputflag=0\n",
    ")\n",
    "elapsed_time_gurobi = time.time() - start_time\n",
    "print(f\"Gurobi Optimal Transport Value: {val_gurobi:.4f}, Computation Time: {elapsed_time_gurobi:.2f}s\")"
   ]
  },
  {
   "cell_type": "code",
   "execution_count": null,
   "metadata": {},
   "outputs": [],
   "source": [
    "# Compute optimal transport using linear programming\n",
    "print(\"\\nComputing adapted optimal transport using LP solver...\")\n",
    "max_depth = get_depth(bm1_root)\n",
    "start_time = time.time()\n",
    "distance_lp = compute_nested_distance(\n",
    "    bm1_root, bm2_root, max_depth, method=\"solver_lp\", return_matrix=False, lambda_reg=0, power =2\n",
    ")\n",
    "elapsed_time_lp = time.time() - start_time\n",
    "print(f\"LP Solver Distance: {distance_lp:.4f}, Computation Time: {elapsed_time_lp:.2f}s\")"
   ]
  },
  {
   "cell_type": "code",
   "execution_count": null,
   "metadata": {},
   "outputs": [],
   "source": [
    "# Compute Sinkhorn distance with regularization\n",
    "print(\"\\nComputing adapted optimal transport using Sinkhorn regularization...\")\n",
    "max_depth = get_depth(bm1_root)\n",
    "start_time = time.time()\n",
    "distance_sinkhorn = compute_nested_distance(\n",
    "    bm1_root, bm2_root, max_depth, method=\"Sinkhorn\", return_matrix=False, lambda_reg=8, power = 2\n",
    ")\n",
    "elapsed_time_sinkhorn = time.time() - start_time\n",
    "print(f\"Sinkhorn Regularized Distance: {distance_sinkhorn:.4f}, Computation Time: {elapsed_time_sinkhorn:.2f}s\")"
   ]
  },
  {
   "cell_type": "code",
   "execution_count": null,
   "metadata": {},
   "outputs": [],
   "source": [
    "# Generate adapted trees for Brownian motion and financial model\n",
    "print(\"Generating adapted tree from Brownian motion...\")\n",
    "bm_root, bm_time_tdetail = generate_adapted_tree(num_paths=num_paths, time_steps=time_steps, scale=scale, use_weights=use_weights, model='brownian', return_times=True)\n",
    "\n",
    "print(\"Generating adapted tree from Financial Model...\")\n",
    "fin_root, fin_time_tdetail = generate_adapted_tree(num_paths=num_paths, time_steps=time_steps, scale=scale, use_weights=use_weights, model='financial', return_times=True)\n",
    "\n",
    "print(f\"Brownian Motion Adapted Tree generated successfully in {sum(bm_time_tdetail):.2f} seconds.\")\n",
    "print(f\"Time breakdown: Sample generation: {bm_time_tdetail[0]:.2f}s, Measure k-means: {bm_time_tdetail[1]:.2f}s, Tree construction: {bm_time_tdetail[2]:.2f}s\")\n",
    "\n",
    "print(f\"Financial Model Adapted Tree generated successfully in {sum(fin_time_tdetail):.2f} seconds.\")\n",
    "print(f\"Time breakdown: Sample generation: {fin_time_tdetail[0]:.2f}s, Measure k-means: {fin_time_tdetail[1]:.2f}s, Tree construction: {fin_time_tdetail[2]:.2f}s\")\n",
    "\n",
    "\n",
    "\n",
    "# Set parameters\n",
    "num_paths = 200   # number of sample paths\n",
    "time_steps = 5   # number of time steps per path\n",
    "scale = 1\n",
    "use_weights = 1\n",
    "\n",
    "\n",
    "# Generate adapted trees for Brownian motion and financial model\n",
    "print(\"Generating adapted tree from Brownian motion...\")\n",
    "bm_root, bm_time_tdetail = generate_adapted_tree(num_paths=num_paths, time_steps=time_steps, scale=1, use_weights=use_weights, model='brownian', return_times=True)\n",
    "\n",
    "print(\"Generating adapted tree from Financial Model...\")\n",
    "fin_root, fin_time_tdetail = generate_adapted_tree(num_paths=num_paths, time_steps=time_steps, scale=0.5**2, use_weights=use_weights, model='brownian', return_times=True)\n",
    "\n",
    "print(f\"Brownian Motion Adapted Tree generated successfully in {sum(bm_time_tdetail):.2f} seconds.\")\n",
    "print(f\"Time breakdown: Sample generation: {bm_time_tdetail[0]:.2f}s, Measure k-means: {bm_time_tdetail[1]:.2f}s, Tree construction: {bm_time_tdetail[2]:.2f}s\")\n",
    "\n",
    "print(f\"Financial Model Adapted Tree generated successfully in {sum(fin_time_tdetail):.2f} seconds.\")\n",
    "print(f\"Time breakdown: Sample generation: {fin_time_tdetail[0]:.2f}s, Measure k-means: {fin_time_tdetail[1]:.2f}s, Tree construction: {fin_time_tdetail[2]:.2f}s\")"
   ]
  },
  {
   "cell_type": "code",
   "execution_count": null,
   "metadata": {},
   "outputs": [],
   "source": [
    "start_time = time.time()\n",
    "\n",
    "max_depth = get_depth(bm_root)\n",
    "distance = compute_nested_distance(\n",
    "    bm_root, fin_root, max_depth, method=\"solver_pot\", return_matrix=False, lambda_reg=0\n",
    ")\n",
    "\n",
    "end_time = time.time()\n",
    "elapsed_time = end_time - start_time\n",
    "\n",
    "print(distance)\n",
    "print(elapsed_time)"
   ]
  }
 ],
 "metadata": {
  "kernelspec": {
   "display_name": "Python 3",
   "language": "python",
   "name": "python3"
  },
  "language_info": {
   "codemirror_mode": {
    "name": "ipython",
    "version": 3
   },
   "file_extension": ".py",
   "mimetype": "text/x-python",
   "name": "python",
   "nbconvert_exporter": "python",
   "pygments_lexer": "ipython3",
   "version": "3.10.7"
  }
 },
 "nbformat": 4,
 "nbformat_minor": 2
}
