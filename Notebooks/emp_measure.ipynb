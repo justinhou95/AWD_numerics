{
 "cells": [
  {
   "cell_type": "code",
   "execution_count": 1,
   "metadata": {},
   "outputs": [
    {
     "name": "stdout",
     "output_type": "stream",
     "text": [
      "Paths added to sys.path!\n",
      "Generating adapted tree from Brownian motion...\n",
      "Adapted tree generated successfully in 27.34 seconds.\n",
      "Time breakdown: Sample generation: 0.02s, Measure adaptation: 27.24s, Tree construction: 0.09s\n"
     ]
    }
   ],
   "source": [
    "import numpy as np\n",
    "import os\n",
    "import sys\n",
    "import warnings\n",
    "import time\n",
    "\n",
    "measure_sampling_path = os.path.abspath('/Users/rubenbontorno/Documents/Master_Thesis/Code/AWD_numerics/Measure_sampling')\n",
    "trees_path = os.path.abspath('/Users/rubenbontorno/Documents/Master_Thesis/Code/AWD_numerics/Trees')\n",
    "\n",
    "if measure_sampling_path not in sys.path:\n",
    "    sys.path.append(measure_sampling_path)\n",
    "\n",
    "if trees_path not in sys.path:\n",
    "    sys.path.append(trees_path)\n",
    "\n",
    "print(\"Paths added to sys.path!\")\n",
    "\n",
    "# Now import\n",
    "from BM import generate_adapted_tree_from_brownian\n",
    "from Save_Load_trees import save_tree, load_tree\n",
    "\n",
    "\n",
    "# Suppress sklearn warnings\n",
    "warnings.filterwarnings(\"ignore\", category=FutureWarning)\n",
    "warnings.filterwarnings(\"ignore\", category=UserWarning)\n",
    "\n",
    "# Set parameters\n",
    "num_paths = 3000   # number of sample paths\n",
    "time_steps = 4   # number of time steps per path\n",
    "scale = 1\n",
    "use_weights = 1\n",
    "\n",
    "# Generate the adapted tree from Brownian motion with timing\n",
    "print(\"Generating adapted tree from Brownian motion...\")\n",
    "tree_root, time_tdetail = generate_adapted_tree_from_brownian(num_paths=num_paths, time_steps=time_steps, scale=scale, use_weights=use_weights, return_times=True)\n",
    "\n",
    "print(f\"Adapted tree generated successfully in {sum(time_tdetail):.2f} seconds.\")\n",
    "print(f\"Time breakdown: Sample generation: {time_tdetail[0]:.2f}s, Measure adaptation: {time_tdetail[1]:.2f}s, Tree construction: {time_tdetail[2]:.2f}s\")"
   ]
  },
  {
   "cell_type": "code",
   "execution_count": 2,
   "metadata": {},
   "outputs": [
    {
     "ename": "NameError",
     "evalue": "name 'load_tree' is not defined",
     "output_type": "error",
     "traceback": [
      "\u001b[0;31m---------------------------------------------------------------------------\u001b[0m",
      "\u001b[0;31mNameError\u001b[0m                                 Traceback (most recent call last)",
      "Cell \u001b[0;32mIn [2], line 1\u001b[0m\n\u001b[0;32m----> 1\u001b[0m tree_2_root \u001b[38;5;241m=\u001b[39m load_tree(\u001b[38;5;124m'\u001b[39m\u001b[38;5;124m/Users/rubenbontorno/Documents/Master_Thesis/Code/AWD_numerics/Trees/Data_trees_exemple\u001b[39m\u001b[38;5;124m'\u001b[39m, \u001b[38;5;124m'\u001b[39m\u001b[38;5;124mtree_2.pkl\u001b[39m\u001b[38;5;124m'\u001b[39m)\n\u001b[1;32m      2\u001b[0m visualize_tree(tree_2_root, title\u001b[38;5;241m=\u001b[39m\u001b[38;5;124m\"\u001b[39m\u001b[38;5;124memp gaus\u001b[39m\u001b[38;5;124m\"\u001b[39m)\n",
      "\u001b[0;31mNameError\u001b[0m: name 'load_tree' is not defined"
     ]
    }
   ],
   "source": [
    "tree_2_root = load_tree('/Users/rubenbontorno/Documents/Master_Thesis/Code/AWD_numerics/Trees/Data_trees_exemple', 'tree_2.pkl')\n",
    "visualize_tree(tree_2_root, title=\"emp gaus\")"
   ]
  },
  {
   "cell_type": "code",
   "execution_count": 5,
   "metadata": {},
   "outputs": [],
   "source": [
    "def print_results(distance, prob_matrix, elapsed_time):\n",
    "    \"\"\"Prints the nested distance, probability matrix, and computation time in a formatted way.\"\"\"\n",
    "    print(f\"Nested Distance: {distance}\\n\")\n",
    "    print(f\"Final Probability Matrix:\")\n",
    "    for row in prob_matrix:\n",
    "        print(\" | \".join(f\"{value:.5f}\" for value in row))\n",
    "    print(f\"\\nComputation Time: {elapsed_time:.4f} seconds\\n\")\n",
    "    print(\"-\" * 50 + \"\\n\")"
   ]
  },
  {
   "cell_type": "code",
   "execution_count": null,
   "metadata": {},
   "outputs": [],
   "source": [
    "import sys\n",
    "import os\n",
    "import time\n",
    "\n",
    "# Define the absolute path to the AWD_trees folder\n",
    "awd_trees_path = os.path.abspath('/Users/rubenbontorno/Documents/Master_Thesis/Code/AWD_numerics/AWD_trees')\n",
    "\n",
    "# Add it to sys.path if not already present\n",
    "if awd_trees_path not in sys.path:\n",
    "    sys.path.append(awd_trees_path)\n",
    "\n",
    "import time\n",
    "from AWD_from_comp_methodes_AOT import *\n",
    "\n",
    "formatted_tree_1 = get_sample_paths(tree_root)\n",
    "formatted_tree_2 = get_sample_paths(tree_2_root)\n",
    "\n",
    "def cost_function(x, y):\n",
    "    \"\"\"Cost function: L1 distance.\"\"\"\n",
    "    return np.sum(np.abs(x - y))\n",
    "\n",
    "start_time = time.time()\n",
    "\n",
    "val_gurobi = gurobi_bm(\n",
    "    [formatted_tree_1, formatted_tree_2],\n",
    "    f=cost_function,\n",
    "    r_opti=0,\n",
    "    causal=1,\n",
    "    anticausal=1,\n",
    "    outputflag=0\n",
    ")\n",
    "\n",
    "end_time = time.time()\n",
    "elapsed_time_gurobi = end_time - start_time\n",
    "\n",
    "\n",
    "print(val_gurobi, elapsed_time_gurobi)"
   ]
  },
  {
   "cell_type": "code",
   "execution_count": null,
   "metadata": {},
   "outputs": [],
   "source": [
    "import time\n",
    "\n",
    "from Algorithm import compute_nested_distance\n",
    "\n",
    "# Start timing the Sinkhorn with regularization computation\n",
    "\n",
    "\n",
    "start_time = time.time()\n",
    "\n",
    "max_depth = get_depth(tree_root)\n",
    "\n",
    "start_time = time.time()\n",
    "\n",
    "distance = compute_nested_distance(\n",
    "    tree_root, tree_2_root, max_depth, method=\"solver_lp\", return_matrix=False, lambda_reg=0\n",
    ")\n",
    "\n",
    "end_time = time.time()\n",
    "elapsed_time = end_time - start_time\n",
    "\n",
    "print(distance)\n",
    "print(elapsed_time)"
   ]
  },
  {
   "cell_type": "code",
   "execution_count": null,
   "metadata": {},
   "outputs": [],
   "source": [
    "start_time = time.time()\n",
    "\n",
    "distance = compute_nested_distance(\n",
    "    tree_root, tree_2_root, max_depth, method=\"solver_pot\", return_matrix=False, lambda_reg=0\n",
    ")\n",
    "\n",
    "end_time = time.time()\n",
    "elapsed_time = end_time - start_time\n",
    "\n",
    "print(distance)\n",
    "print(elapsed_time)"
   ]
  },
  {
   "cell_type": "code",
   "execution_count": null,
   "metadata": {},
   "outputs": [],
   "source": [
    "# Start timing the Sinkhorn with regularization computation\n",
    "start_time = time.time()\n",
    "\n",
    "# Compute nested distance using Sinkhorn iteration with regularization\n",
    "distance_sinkhorn_reg = compute_nested_distance(\n",
    "    tree_root, tree_2_root, max_depth, method=\"Sinkhorn\", return_matrix=False, lambda_reg=2\n",
    ")\n",
    "\n",
    "# End timing\n",
    "end_time = time.time()\n",
    "elapsed_time_sinkhorn_reg = end_time - start_time\n",
    "\n",
    "print(distance)\n",
    "print(elapsed_time_sinkhorn_reg)"
   ]
  }
 ],
 "metadata": {
  "kernelspec": {
   "display_name": "Python 3",
   "language": "python",
   "name": "python3"
  },
  "language_info": {
   "codemirror_mode": {
    "name": "ipython",
    "version": 3
   },
   "file_extension": ".py",
   "mimetype": "text/x-python",
   "name": "python",
   "nbconvert_exporter": "python",
   "pygments_lexer": "ipython3",
   "version": "3.10.7"
  }
 },
 "nbformat": 4,
 "nbformat_minor": 2
}
