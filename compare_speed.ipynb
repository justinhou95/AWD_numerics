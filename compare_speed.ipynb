{
 "cells": [
  {
   "cell_type": "code",
   "execution_count": 1,
   "metadata": {},
   "outputs": [
    {
     "data": {
      "text/plain": [
       "75"
      ]
     },
     "execution_count": 1,
     "metadata": {},
     "output_type": "execute_result"
    }
   ],
   "source": [
    "%load_ext autoreload\n",
    "%load_ext line_profiler\n",
    "%autoreload 2\n",
    "%matplotlib ipympl\n",
    "\n",
    "import sys\n",
    "import numpy as np\n",
    "import time\n",
    "\n",
    "sys.path.append('./src')\n",
    "verbose = False\n",
    "\n",
    "random_seed = np.random.randint(100)\n",
    "random_seed"
   ]
  },
  {
   "cell_type": "code",
   "execution_count": 2,
   "metadata": {},
   "outputs": [
    {
     "name": "stdout",
     "output_type": "stream",
     "text": [
      "mu\n",
      "Cholesky:\n",
      "[[1 0 0]\n",
      " [2 4 0]\n",
      " [3 2 1]]\n",
      "Covariance:\n",
      "[[ 1  2  3]\n",
      " [ 2 20 14]\n",
      " [ 3 14 14]]\n",
      "nu\n",
      "Cholesky:\n",
      "[[1 0 0]\n",
      " [2 3 0]\n",
      " [3 1 2]]\n",
      "Covariance:\n",
      "[[ 1  2  3]\n",
      " [ 2 13  9]\n",
      " [ 3  9 14]]\n"
     ]
    }
   ],
   "source": [
    "from src.utils_solver import Lmatrix2paths, adapted_empirical_measure, adapted_wasserstein_squared, quantization, nested, plot_V\n",
    "\n",
    "n_sample = 100\n",
    "normalize = False\n",
    "\n",
    "print(\"mu\")\n",
    "L = np.array([[1, 0, 0], [2, 4, 0], [3, 2, 1]])\n",
    "X,A = Lmatrix2paths(L, n_sample, seed = random_seed)\n",
    "\n",
    "print(\"nu\")\n",
    "M = np.array([[1, 0, 0], [2, 3, 0], [3, 1, 2]])\n",
    "Y,B = Lmatrix2paths(M, n_sample, seed = random_seed)"
   ]
  },
  {
   "cell_type": "code",
   "execution_count": 3,
   "metadata": {},
   "outputs": [],
   "source": [
    "from adapted_empirical_measure.AEM_grid import uniform_empirical_grid_measure\n",
    "from trees.Build_trees_from_paths import build_tree_from_paths\n",
    "from trees.TreeAnalysis import get_depth\n",
    "from awd_trees.Nested_Dist_Algo import compute_nested_distance\n"
   ]
  },
  {
   "cell_type": "code",
   "execution_count": 4,
   "metadata": {},
   "outputs": [
    {
     "name": "stderr",
     "output_type": "stream",
     "text": [
      "Depth 2: 100%|██████████| 99/99 [00:00<00:00, 273.65it/s]\n",
      "Depth 1: 100%|██████████| 38/38 [00:00<00:00, 695.78it/s]\n",
      "Depth 0: 100%|██████████| 1/1 [00:00<00:00, 1428.09it/s]"
     ]
    },
    {
     "name": "stdout",
     "output_type": "stream",
     "text": [
      "Numerical AW_2^2 (Adapted OT): 3.2470999999999988\n",
      "Elapsed time (Adapted OT): 0.4301 seconds\n"
     ]
    },
    {
     "name": "stderr",
     "output_type": "stream",
     "text": [
      "\n"
     ]
    }
   ],
   "source": [
    "# Compute uniform adapted empirical grid measures with weights\n",
    "adapted_X, adapted_weights_X = uniform_empirical_grid_measure(X.T, delta_n=0.1, use_weights=True)\n",
    "adapted_Y, adapted_weights_Y = uniform_empirical_grid_measure(Y.T, delta_n=0.1, use_weights=True)\n",
    "\n",
    "# Build trees from the adapted paths\n",
    "adapted_tree_1 = build_tree_from_paths(adapted_X, adapted_weights_X)\n",
    "adapted_tree_2 = build_tree_from_paths(adapted_Y, adapted_weights_Y)\n",
    "\n",
    "# Compute the nested (adapted optimal transport) distance and measure execution time\n",
    "max_depth = get_depth(adapted_tree_1)\n",
    "start_time = time.perf_counter()\n",
    "distance_pot = compute_nested_distance(\n",
    "    adapted_tree_1,\n",
    "    adapted_tree_2,\n",
    "    max_depth,\n",
    "    method=\"solver_lp_pot\",\n",
    "    return_matrix=False,\n",
    "    lambda_reg=0,\n",
    "    power=2,\n",
    ")\n",
    "end_time = time.perf_counter()\n",
    "\n",
    "print(\"Numerical AW_2^2 (Adapted OT):\", distance_pot)\n",
    "print(\"Elapsed time (Adapted OT): {:.4f} seconds\".format(end_time - start_time))"
   ]
  },
  {
   "cell_type": "code",
   "execution_count": 5,
   "metadata": {},
   "outputs": [
    {
     "name": "stdout",
     "output_type": "stream",
     "text": [
      "Quantization ......\n",
      "Number of distinct values in global quantization:  145\n",
      "Number of condition subpaths of mu_x\n",
      "Time 0: 1\n",
      "Time 1: 38\n",
      "Time 2: 99\n",
      "Number of condition subpaths of nu_y\n",
      "Time 0: 1\n",
      "Time 1: 38\n",
      "Time 2: 98\n",
      "Nested backward induction .......\n"
     ]
    },
    {
     "name": "stderr",
     "output_type": "stream",
     "text": [
      "Timestep 2: 100%|██████████| 99/99 [00:00<00:00, 115.28it/s]\n",
      "Timestep 1: 100%|██████████| 38/38 [00:00<00:00, 205.78it/s]\n",
      "Timestep 0: 100%|██████████| 1/1 [00:00<00:00, 1270.62it/s]"
     ]
    },
    {
     "name": "stdout",
     "output_type": "stream",
     "text": [
      "Theoretical AW_2^2:  3.0\n",
      "Numerical AW_2^2:  3.247100000000001\n",
      "Elapsed time (Adapted OT): 1.0484 seconds\n"
     ]
    },
    {
     "name": "stderr",
     "output_type": "stream",
     "text": [
      "\n"
     ]
    }
   ],
   "source": [
    "adaptedX = adapted_empirical_measure(X, delta_n = 0.1)\n",
    "adaptedY = adapted_empirical_measure(Y, delta_n = 0.1)\n",
    "\n",
    "q2v, v2q, mu_x, nu_y, q2v_x, v2q_x, q2v_y, v2q_y = quantization(adaptedX, adaptedY, markovian=False)\n",
    "\n",
    "start_time = time.perf_counter()\n",
    "AW_2square, V = nested(mu_x, nu_y, v2q_x, v2q_y, q2v, markovian=False)\n",
    "end_time = time.perf_counter()\n",
    "\n",
    "dist_bench = adapted_wasserstein_squared(A, B)\n",
    "print(\"Theoretical AW_2^2: \", dist_bench)\n",
    "print(\"Numerical AW_2^2: \", AW_2square)\n",
    "print(\"Elapsed time (Adapted OT): {:.4f} seconds\".format(end_time - start_time))"
   ]
  },
  {
   "cell_type": "code",
   "execution_count": 11,
   "metadata": {},
   "outputs": [
    {
     "name": "stdout",
     "output_type": "stream",
     "text": [
      "Finished in 0.07 seconds\n"
     ]
    },
    {
     "name": "stderr",
     "output_type": "stream",
     "text": [
      "Process SpawnProcess-11:\n",
      "Traceback (most recent call last):\n",
      "  File \"/Library/Frameworks/Python.framework/Versions/3.9/lib/python3.9/multiprocessing/process.py\", line 315, in _bootstrap\n",
      "    self.run()\n",
      "  File \"/Library/Frameworks/Python.framework/Versions/3.9/lib/python3.9/multiprocessing/process.py\", line 108, in run\n",
      "    self._target(*self._args, **self._kwargs)\n",
      "  File \"/Library/Frameworks/Python.framework/Versions/3.9/lib/python3.9/concurrent/futures/process.py\", line 240, in _process_worker\n",
      "    call_item = call_queue.get(block=True)\n",
      "  File \"/Library/Frameworks/Python.framework/Versions/3.9/lib/python3.9/multiprocessing/queues.py\", line 122, in get\n",
      "    return _ForkingPickler.loads(res)\n",
      "AttributeError: Can't get attribute 'do_sth' on <module '__main__' (built-in)>\n",
      "Process SpawnProcess-12:\n",
      "Traceback (most recent call last):\n",
      "  File \"/Library/Frameworks/Python.framework/Versions/3.9/lib/python3.9/multiprocessing/process.py\", line 315, in _bootstrap\n",
      "    self.run()\n",
      "  File \"/Library/Frameworks/Python.framework/Versions/3.9/lib/python3.9/multiprocessing/process.py\", line 108, in run\n",
      "    self._target(*self._args, **self._kwargs)\n",
      "  File \"/Library/Frameworks/Python.framework/Versions/3.9/lib/python3.9/concurrent/futures/process.py\", line 240, in _process_worker\n",
      "    call_item = call_queue.get(block=True)\n",
      "  File \"/Library/Frameworks/Python.framework/Versions/3.9/lib/python3.9/multiprocessing/queues.py\", line 122, in get\n",
      "    return _ForkingPickler.loads(res)\n",
      "AttributeError: Can't get attribute 'do_sth' on <module '__main__' (built-in)>\n",
      "Process SpawnProcess-13:\n",
      "Traceback (most recent call last):\n",
      "  File \"/Library/Frameworks/Python.framework/Versions/3.9/lib/python3.9/multiprocessing/process.py\", line 315, in _bootstrap\n",
      "    self.run()\n",
      "  File \"/Library/Frameworks/Python.framework/Versions/3.9/lib/python3.9/multiprocessing/process.py\", line 108, in run\n",
      "    self._target(*self._args, **self._kwargs)\n",
      "  File \"/Library/Frameworks/Python.framework/Versions/3.9/lib/python3.9/concurrent/futures/process.py\", line 240, in _process_worker\n",
      "    call_item = call_queue.get(block=True)\n",
      "  File \"/Library/Frameworks/Python.framework/Versions/3.9/lib/python3.9/multiprocessing/queues.py\", line 122, in get\n",
      "    return _ForkingPickler.loads(res)\n",
      "AttributeError: Can't get attribute 'do_sth' on <module '__main__' (built-in)>\n"
     ]
    }
   ],
   "source": [
    "import time\n",
    "import multiprocessing\n",
    "import concurrent.futures\n",
    "def do_sth(second):\n",
    "    print(f\"Sleep {second} second\")\n",
    "    time.sleep(second)\n",
    "    return f\"Done Sleeping {second} second...\"\n",
    "\n",
    "secs = [5, 4, 3, 2, 1]\n",
    "\n",
    "start = time.perf_counter()\n",
    "with concurrent.futures.ProcessPoolExecutor() as executor:\n",
    "    results = executor.map(do_sth, secs)\n",
    "finish = time.perf_counter()\n",
    "print(f\"Finished in {round(finish - start,2)} seconds\")"
   ]
  },
  {
   "cell_type": "code",
   "execution_count": null,
   "metadata": {},
   "outputs": [],
   "source": [
    "from tqdm import tqdm\n",
    "import ot\n",
    "import concurrent\n",
    "\n",
    "def nested_mp(mu_x, nu_y, v2q_x, v2q_y, q2v, markovian=False, verbose=True):\n",
    "    T = len(mu_x)\n",
    "    square_cost_matrix = (q2v[None, :] - q2v[None, :].T) ** 2\n",
    "\n",
    "    V = [np.zeros([len(v2q_x[t]), len(v2q_y[t])]) for t in range(T)]\n",
    "    if verbose:\n",
    "        print(\"Nested backward induction .......\")\n",
    "    for t in range(T - 1, -1, -1):\n",
    "        print(len(mu_x[t]), len(nu_y[t]))\n",
    "        tqdm_bar = tqdm(mu_x[t].items()) if verbose else mu_x[t].items()\n",
    "\n",
    "        with concurrent.futures.ProcessPoolExecutor() as executor:\n",
    "            results = executor.map(do_sth, secs)\n",
    "\n",
    "        for k1, v1 in tqdm_bar:\n",
    "            if verbose:\n",
    "                tqdm_bar.set_description(f\"Timestep {t}\")\n",
    "            for k2, v2 in nu_y[t].items():\n",
    "                # list of probability of conditional distribution mu_x\n",
    "                w1 = list(v1.values())\n",
    "                w1 = np.array(w1) / sum(w1)\n",
    "                # list of probability of conditional distribution nu_y\n",
    "                w2 = list(v2.values())\n",
    "                w2 = np.array(w2) / sum(w2)\n",
    "                # list of quantized values of conditional distribution mu_x (nu_y)\n",
    "                q1 = list(v1.keys())\n",
    "                q2 = list(v2.keys())\n",
    "                # square cost of the values indexed by quantized values: |q2v[q1] - q2v[q2]|^2\n",
    "                cost = square_cost_matrix[np.ix_(q1, q2)]\n",
    "\n",
    "                # At T-1: add V[T] = 0, otherwise add the V[t+1] already computed\n",
    "                if t < T - 1:\n",
    "                    if (\n",
    "                        markovian\n",
    "                    ):  # If markovian, for condition path (k1,q), only the last value q matters, and V[t+1] is indexed by the time re-quantization of q\n",
    "                        q1s = [v2q_x[t + 1][q] for q in v1.keys()]\n",
    "                        q2s = [v2q_y[t + 1][q] for q in v2.keys()]\n",
    "                    else:  # If non-markovian, for condition path (k1,q), the V[t+1] is indexed by the time re-quantization of tuple (k1,q)\n",
    "                        q1s = [v2q_x[t + 1][k1 + (q,)] for q in v1.keys()]\n",
    "                        q2s = [v2q_y[t + 1][k2 + (q,)] for q in v2.keys()]\n",
    "                    cost += V[t + 1][np.ix_(q1s, q2s)]\n",
    "\n",
    "                # solve the OT problem with cost |x_t-y_t|^2 + V_{t+1}(x_{1:t},y_{1:t})\n",
    "                V[t][v2q_x[t][k1], v2q_y[t][k2]] = ot.emd2(w1, w2, cost)\n",
    "\n",
    "    AW_2square = V[0][0, 0]\n",
    "    return AW_2square, V"
   ]
  },
  {
   "cell_type": "code",
   "execution_count": 8,
   "metadata": {},
   "outputs": [
    {
     "name": "stdout",
     "output_type": "stream",
     "text": [
      "Nested backward induction .......\n",
      "99 98\n"
     ]
    },
    {
     "name": "stderr",
     "output_type": "stream",
     "text": [
      "Timestep 2: 100%|██████████| 99/99 [00:00<00:00, 109.10it/s]\n"
     ]
    },
    {
     "name": "stdout",
     "output_type": "stream",
     "text": [
      "38 38\n"
     ]
    },
    {
     "name": "stderr",
     "output_type": "stream",
     "text": [
      "Timestep 1: 100%|██████████| 38/38 [00:00<00:00, 180.52it/s]\n"
     ]
    },
    {
     "name": "stdout",
     "output_type": "stream",
     "text": [
      "1 1\n"
     ]
    },
    {
     "name": "stderr",
     "output_type": "stream",
     "text": [
      "Timestep 0: 100%|██████████| 1/1 [00:00<00:00, 914.19it/s]\n"
     ]
    }
   ],
   "source": [
    "AW_2square, V = nested_mp(mu_x, nu_y, v2q_x, v2q_y, q2v, markovian=False)"
   ]
  }
 ],
 "metadata": {
  "kernelspec": {
   "display_name": ".venv",
   "language": "python",
   "name": "python3"
  },
  "language_info": {
   "codemirror_mode": {
    "name": "ipython",
    "version": 3
   },
   "file_extension": ".py",
   "mimetype": "text/x-python",
   "name": "python",
   "nbconvert_exporter": "python",
   "pygments_lexer": "ipython3",
   "version": "3.9.13"
  }
 },
 "nbformat": 4,
 "nbformat_minor": 2
}
