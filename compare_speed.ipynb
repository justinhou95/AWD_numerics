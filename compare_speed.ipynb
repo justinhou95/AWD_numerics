{
 "cells": [
  {
   "cell_type": "code",
   "execution_count": 1,
   "metadata": {},
   "outputs": [
    {
     "data": {
      "text/plain": [
       "21"
      ]
     },
     "execution_count": 1,
     "metadata": {},
     "output_type": "execute_result"
    }
   ],
   "source": [
    "%load_ext autoreload\n",
    "%load_ext line_profiler\n",
    "%autoreload 2\n",
    "%matplotlib ipympl\n",
    "\n",
    "import sys\n",
    "import numpy as np\n",
    "import time\n",
    "\n",
    "sys.path.append('./src')\n",
    "verbose = False\n",
    "\n",
    "random_seed = np.random.randint(100)\n",
    "random_seed"
   ]
  },
  {
   "cell_type": "code",
   "execution_count": 2,
   "metadata": {},
   "outputs": [
    {
     "name": "stdout",
     "output_type": "stream",
     "text": [
      "mu\n",
      "Cholesky:\n",
      "[[1 0 0]\n",
      " [2 4 0]\n",
      " [3 2 1]]\n",
      "Covariance:\n",
      "[[ 1  2  3]\n",
      " [ 2 20 14]\n",
      " [ 3 14 14]]\n",
      "nu\n",
      "Cholesky:\n",
      "[[1 0 0]\n",
      " [2 3 0]\n",
      " [3 1 2]]\n",
      "Covariance:\n",
      "[[ 1  2  3]\n",
      " [ 2 13  9]\n",
      " [ 3  9 14]]\n"
     ]
    }
   ],
   "source": [
    "from src.utils_solver import Lmatrix2paths, adapted_empirical_measure, adapted_wasserstein_squared, quantization, nested, plot_V\n",
    "\n",
    "n_sample = 2000\n",
    "normalize = False\n",
    "\n",
    "print(\"mu\")\n",
    "L = np.array([[1, 0, 0], [2, 4, 0], [3, 2, 1]])\n",
    "X,A = Lmatrix2paths(L, n_sample, seed = random_seed)\n",
    "\n",
    "print(\"nu\")\n",
    "M = np.array([[1, 0, 0], [2, 3, 0], [3, 1, 2]])\n",
    "Y,B = Lmatrix2paths(M, n_sample, seed = random_seed)"
   ]
  },
  {
   "cell_type": "code",
   "execution_count": 3,
   "metadata": {},
   "outputs": [],
   "source": [
    "from adapted_empirical_measure.AEM_grid import uniform_empirical_grid_measure\n",
    "from trees.Build_trees_from_paths import build_tree_from_paths\n",
    "from trees.TreeAnalysis import get_depth\n",
    "from awd_trees.Nested_Dist_Algo import compute_nested_distance\n"
   ]
  },
  {
   "cell_type": "code",
   "execution_count": null,
   "metadata": {},
   "outputs": [
    {
     "name": "stderr",
     "output_type": "stream",
     "text": [
      "Depth 2: 100%|██████████| 1672/1672 [13:32<00:00,  2.06it/s]\n",
      "Depth 1: 100%|██████████| 61/61 [00:09<00:00,  6.47it/s]\n",
      "Depth 0: 100%|██████████| 1/1 [00:00<00:00, 105.94it/s]"
     ]
    },
    {
     "name": "stdout",
     "output_type": "stream",
     "text": [
      "Numerical AW_2^2 (Adapted OT): 3.348419166666668\n",
      "Elapsed time (Adapted OT): 821.7054 seconds\n"
     ]
    },
    {
     "name": "stderr",
     "output_type": "stream",
     "text": [
      "\n"
     ]
    }
   ],
   "source": [
    "# Compute uniform adapted empirical grid measures with weights\n",
    "adapted_X, adapted_weights_X = uniform_empirical_grid_measure(X.T, delta_n=0.1, use_weights=True)\n",
    "adapted_Y, adapted_weights_Y = uniform_empirical_grid_measure(Y.T, delta_n=0.1, use_weights=True)\n",
    "\n",
    "# Build trees from the adapted paths\n",
    "adapted_tree_1 = build_tree_from_paths(adapted_X, adapted_weights_X)\n",
    "adapted_tree_2 = build_tree_from_paths(adapted_Y, adapted_weights_Y)\n",
    "\n",
    "# Compute the nested (adapted optimal transport) distance and measure execution time\n",
    "max_depth = get_depth(adapted_tree_1)\n",
    "start_time = time.perf_counter()\n",
    "distance_pot = compute_nested_distance(\n",
    "    adapted_tree_1,\n",
    "    adapted_tree_2,\n",
    "    max_depth,\n",
    "    method=\"solver_lp_pot\",\n",
    "    return_matrix=False,\n",
    "    lambda_reg=0,\n",
    "    power=2,\n",
    ")\n",
    "end_time = time.perf_counter()\n",
    "elapsed_time_pot = end_time - start_time\n",
    "\n",
    "print(\"Numerical AW_2^2 (Adapted OT):\", distance_pot)\n",
    "print(\"Elapsed time (Adapted OT): {:.4f} seconds\".format(elapsed_time_pot))"
   ]
  },
  {
   "cell_type": "code",
   "execution_count": 5,
   "metadata": {},
   "outputs": [
    {
     "name": "stdout",
     "output_type": "stream",
     "text": [
      "Quantization ......\n",
      "Number of distinct values in global quantization:  243\n",
      "Number of condition subpaths of mu_x\n",
      "Time 0: 1\n",
      "Time 1: 61\n",
      "Time 2: 1672\n",
      "Number of condition subpaths of nu_y\n",
      "Time 0: 1\n",
      "Time 1: 61\n",
      "Time 2: 1569\n",
      "Nested backward induction .......\n"
     ]
    },
    {
     "name": "stderr",
     "output_type": "stream",
     "text": [
      "Timestep 2: 100%|██████████| 1672/1672 [03:13<00:00,  8.64it/s]\n",
      "Timestep 1: 100%|██████████| 61/61 [00:00<00:00, 93.58it/s]\n",
      "Timestep 0: 100%|██████████| 1/1 [00:00<00:00, 1012.38it/s]"
     ]
    },
    {
     "name": "stdout",
     "output_type": "stream",
     "text": [
      "Theoretical AW_2^2:  3.0\n",
      "Numerical AW_2^2:  3.348419166666667\n",
      "Elapsed time (Adapted OT): 185.9305 seconds\n"
     ]
    },
    {
     "name": "stderr",
     "output_type": "stream",
     "text": [
      "\n"
     ]
    }
   ],
   "source": [
    "adaptedX = adapted_empirical_measure(X, delta_n = 0.1)\n",
    "adaptedY = adapted_empirical_measure(Y, delta_n = 0.1)\n",
    "\n",
    "q2v, v2q, mu_x, nu_y, q2v_x, v2q_x, q2v_y, v2q_y = quantization(adaptedX, adaptedY, markovian=False)\n",
    "\n",
    "start_time = time.perf_counter()\n",
    "AW_2square, V = nested(mu_x, nu_y, v2q_x, v2q_y, q2v, markovian=False)\n",
    "end_time = time.perf_counter()\n",
    "\n",
    "dist_bench = adapted_wasserstein_squared(A, B)\n",
    "print(\"Theoretical AW_2^2: \", dist_bench)\n",
    "print(\"Numerical AW_2^2: \", AW_2square)\n",
    "print(\"Elapsed time (Adapted OT): {:.4f} seconds\".format(elapsed_time_pot))"
   ]
  }
 ],
 "metadata": {
  "kernelspec": {
   "display_name": ".venv",
   "language": "python",
   "name": "python3"
  },
  "language_info": {
   "codemirror_mode": {
    "name": "ipython",
    "version": 3
   },
   "file_extension": ".py",
   "mimetype": "text/x-python",
   "name": "python",
   "nbconvert_exporter": "python",
   "pygments_lexer": "ipython3",
   "version": "3.9.13"
  }
 },
 "nbformat": 4,
 "nbformat_minor": 2
}
